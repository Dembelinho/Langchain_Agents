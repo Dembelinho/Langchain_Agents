{
  "nbformat": 4,
  "nbformat_minor": 0,
  "metadata": {
    "colab": {
      "provenance": [],
      "collapsed_sections": [
        "M7cVEBDcXlck"
      ],
      "mount_file_id": "14b4PNMYL2Kbolh6A8ne3CvnpiRCjokyw",
      "authorship_tag": "ABX9TyNuK9ry8Fz8dRUlXedbI6r2",
      "include_colab_link": true
    },
    "kernelspec": {
      "name": "python3",
      "display_name": "Python 3"
    },
    "language_info": {
      "name": "python"
    }
  },
  "cells": [
    {
      "cell_type": "markdown",
      "metadata": {
        "id": "view-in-github",
        "colab_type": "text"
      },
      "source": [
        "<a href=\"https://colab.research.google.com/github/Dembelinho/Langchain_Agents/blob/main/RAG_Cohere.ipynb\" target=\"_parent\"><img src=\"https://colab.research.google.com/assets/colab-badge.svg\" alt=\"Open In Colab\"/></a>"
      ]
    },
    {
      "cell_type": "markdown",
      "source": [
        "# Install packages"
      ],
      "metadata": {
        "id": "M7cVEBDcXlck"
      }
    },
    {
      "cell_type": "code",
      "source": [
        "!pip install --upgrade --quiet langchain"
      ],
      "metadata": {
        "id": "ejuQ7TPr80wC",
        "colab": {
          "base_uri": "https://localhost:8080/"
        },
        "outputId": "f2296dcd-234a-4aea-97ed-55765faf6305"
      },
      "execution_count": 2,
      "outputs": [
        {
          "output_type": "stream",
          "name": "stdout",
          "text": [
            "\u001b[2K     \u001b[90m━━━━━━━━━━━━━━━━━━━━━━━━━━━━━━━━━━━━━━━━\u001b[0m \u001b[32m817.7/817.7 kB\u001b[0m \u001b[31m7.1 MB/s\u001b[0m eta \u001b[36m0:00:00\u001b[0m\n",
            "\u001b[2K     \u001b[90m━━━━━━━━━━━━━━━━━━━━━━━━━━━━━━━━━━━━━━━━\u001b[0m \u001b[32m1.9/1.9 MB\u001b[0m \u001b[31m14.0 MB/s\u001b[0m eta \u001b[36m0:00:00\u001b[0m\n",
            "\u001b[2K     \u001b[90m━━━━━━━━━━━━━━━━━━━━━━━━━━━━━━━━━━━━━━━━\u001b[0m \u001b[32m291.3/291.3 kB\u001b[0m \u001b[31m8.7 MB/s\u001b[0m eta \u001b[36m0:00:00\u001b[0m\n",
            "\u001b[2K     \u001b[90m━━━━━━━━━━━━━━━━━━━━━━━━━━━━━━━━━━━━━━━━\u001b[0m \u001b[32m115.2/115.2 kB\u001b[0m \u001b[31m9.7 MB/s\u001b[0m eta \u001b[36m0:00:00\u001b[0m\n",
            "\u001b[2K     \u001b[90m━━━━━━━━━━━━━━━━━━━━━━━━━━━━━━━━━━━━━━━━\u001b[0m \u001b[32m49.4/49.4 kB\u001b[0m \u001b[31m4.5 MB/s\u001b[0m eta \u001b[36m0:00:00\u001b[0m\n",
            "\u001b[2K     \u001b[90m━━━━━━━━━━━━━━━━━━━━━━━━━━━━━━━━━━━━━━━━\u001b[0m \u001b[32m53.0/53.0 kB\u001b[0m \u001b[31m5.0 MB/s\u001b[0m eta \u001b[36m0:00:00\u001b[0m\n",
            "\u001b[2K     \u001b[90m━━━━━━━━━━━━━━━━━━━━━━━━━━━━━━━━━━━━━━━━\u001b[0m \u001b[32m141.1/141.1 kB\u001b[0m \u001b[31m13.2 MB/s\u001b[0m eta \u001b[36m0:00:00\u001b[0m\n",
            "\u001b[?25h"
          ]
        }
      ]
    },
    {
      "cell_type": "code",
      "source": [
        "!pip install --upgrade --quiet langchain-cohere"
      ],
      "metadata": {
        "id": "hmHiu48Q9Ejs",
        "colab": {
          "base_uri": "https://localhost:8080/"
        },
        "outputId": "70cbc484-8cd4-4392-da96-cb4f8a5bdc15"
      },
      "execution_count": 3,
      "outputs": [
        {
          "output_type": "stream",
          "name": "stdout",
          "text": [
            "\u001b[2K     \u001b[90m━━━━━━━━━━━━━━━━━━━━━━━━━━━━━━━━━━━━━━━━\u001b[0m \u001b[32m150.3/150.3 kB\u001b[0m \u001b[31m4.7 MB/s\u001b[0m eta \u001b[36m0:00:00\u001b[0m\n",
            "\u001b[2K     \u001b[90m━━━━━━━━━━━━━━━━━━━━━━━━━━━━━━━━━━━━━━━━\u001b[0m \u001b[32m3.1/3.1 MB\u001b[0m \u001b[31m12.6 MB/s\u001b[0m eta \u001b[36m0:00:00\u001b[0m\n",
            "\u001b[2K     \u001b[90m━━━━━━━━━━━━━━━━━━━━━━━━━━━━━━━━━━━━━━━━\u001b[0m \u001b[32m75.6/75.6 kB\u001b[0m \u001b[31m7.2 MB/s\u001b[0m eta \u001b[36m0:00:00\u001b[0m\n",
            "\u001b[2K     \u001b[90m━━━━━━━━━━━━━━━━━━━━━━━━━━━━━━━━━━━━━━━━\u001b[0m \u001b[32m77.9/77.9 kB\u001b[0m \u001b[31m9.0 MB/s\u001b[0m eta \u001b[36m0:00:00\u001b[0m\n",
            "\u001b[2K     \u001b[90m━━━━━━━━━━━━━━━━━━━━━━━━━━━━━━━━━━━━━━━━\u001b[0m \u001b[32m58.3/58.3 kB\u001b[0m \u001b[31m6.3 MB/s\u001b[0m eta \u001b[36m0:00:00\u001b[0m\n",
            "\u001b[?25h"
          ]
        }
      ]
    },
    {
      "cell_type": "code",
      "source": [
        "!pip install --upgrade --quiet llama-index"
      ],
      "metadata": {
        "id": "zvfmHxSBoI17",
        "colab": {
          "base_uri": "https://localhost:8080/"
        },
        "outputId": "88ed56fd-9dda-4beb-f50c-532a3a5a2ad7"
      },
      "execution_count": 3,
      "outputs": [
        {
          "output_type": "stream",
          "name": "stdout",
          "text": [
            "\u001b[2K     \u001b[90m━━━━━━━━━━━━━━━━━━━━━━━━━━━━━━━━━━━━━━━━\u001b[0m \u001b[32m15.4/15.4 MB\u001b[0m \u001b[31m74.9 MB/s\u001b[0m eta \u001b[36m0:00:00\u001b[0m\n",
            "\u001b[2K     \u001b[90m━━━━━━━━━━━━━━━━━━━━━━━━━━━━━━━━━━━━━━━━\u001b[0m \u001b[32m2.0/2.0 MB\u001b[0m \u001b[31m44.3 MB/s\u001b[0m eta \u001b[36m0:00:00\u001b[0m\n",
            "\u001b[2K     \u001b[90m━━━━━━━━━━━━━━━━━━━━━━━━━━━━━━━━━━━━━━━━\u001b[0m \u001b[32m311.0/311.0 kB\u001b[0m \u001b[31m25.6 MB/s\u001b[0m eta \u001b[36m0:00:00\u001b[0m\n",
            "\u001b[2K     \u001b[90m━━━━━━━━━━━━━━━━━━━━━━━━━━━━━━━━━━━━━━━━\u001b[0m \u001b[32m136.1/136.1 kB\u001b[0m \u001b[31m13.3 MB/s\u001b[0m eta \u001b[36m0:00:00\u001b[0m\n",
            "\u001b[2K     \u001b[90m━━━━━━━━━━━━━━━━━━━━━━━━━━━━━━━━━━━━━━━━\u001b[0m \u001b[32m1.8/1.8 MB\u001b[0m \u001b[31m61.7 MB/s\u001b[0m eta \u001b[36m0:00:00\u001b[0m\n",
            "\u001b[2K     \u001b[90m━━━━━━━━━━━━━━━━━━━━━━━━━━━━━━━━━━━━━━━━\u001b[0m \u001b[32m290.4/290.4 kB\u001b[0m \u001b[31m28.3 MB/s\u001b[0m eta \u001b[36m0:00:00\u001b[0m\n",
            "\u001b[?25h"
          ]
        }
      ]
    },
    {
      "cell_type": "code",
      "source": [
        "!pip install --upgrade --quiet llama-index-embeddings-huggingface"
      ],
      "metadata": {
        "id": "Em_y8yr6oQPC",
        "colab": {
          "base_uri": "https://localhost:8080/"
        },
        "outputId": "70a8807a-da86-4e99-cb15-c232b340d159"
      },
      "execution_count": 4,
      "outputs": [
        {
          "output_type": "stream",
          "name": "stdout",
          "text": [
            "\u001b[?25l     \u001b[90m━━━━━━━━━━━━━━━━━━━━━━━━━━━━━━━━━━━━━━━━\u001b[0m \u001b[32m0.0/171.5 kB\u001b[0m \u001b[31m?\u001b[0m eta \u001b[36m-:--:--\u001b[0m\r\u001b[2K     \u001b[91m━━━━━━━━━━━━━━━━━━━━━━━━━━━━━━━━━━━━━━\u001b[0m\u001b[90m╺\u001b[0m\u001b[90m━\u001b[0m \u001b[32m163.8/171.5 kB\u001b[0m \u001b[31m5.3 MB/s\u001b[0m eta \u001b[36m0:00:01\u001b[0m\r\u001b[2K     \u001b[90m━━━━━━━━━━━━━━━━━━━━━━━━━━━━━━━━━━━━━━━━\u001b[0m \u001b[32m171.5/171.5 kB\u001b[0m \u001b[31m4.4 MB/s\u001b[0m eta \u001b[36m0:00:00\u001b[0m\n",
            "\u001b[?25h"
          ]
        }
      ]
    },
    {
      "cell_type": "code",
      "source": [
        "!pip install --upgrade --quiet chromadb"
      ],
      "metadata": {
        "id": "uTacDRTOUE8J",
        "colab": {
          "base_uri": "https://localhost:8080/"
        },
        "outputId": "c192bada-ca01-4a6f-937f-d6dce4b5ee73"
      },
      "execution_count": 5,
      "outputs": [
        {
          "output_type": "stream",
          "name": "stdout",
          "text": [
            "\u001b[2K     \u001b[90m━━━━━━━━━━━━━━━━━━━━━━━━━━━━━━━━━━━━━━━━\u001b[0m \u001b[32m525.5/525.5 kB\u001b[0m \u001b[31m5.7 MB/s\u001b[0m eta \u001b[36m0:00:00\u001b[0m\n",
            "\u001b[2K     \u001b[90m━━━━━━━━━━━━━━━━━━━━━━━━━━━━━━━━━━━━━━━━\u001b[0m \u001b[32m2.4/2.4 MB\u001b[0m \u001b[31m63.5 MB/s\u001b[0m eta \u001b[36m0:00:00\u001b[0m\n",
            "\u001b[2K     \u001b[90m━━━━━━━━━━━━━━━━━━━━━━━━━━━━━━━━━━━━━━━━\u001b[0m \u001b[32m91.9/91.9 kB\u001b[0m \u001b[31m11.0 MB/s\u001b[0m eta \u001b[36m0:00:00\u001b[0m\n",
            "\u001b[2K     \u001b[90m━━━━━━━━━━━━━━━━━━━━━━━━━━━━━━━━━━━━━━━━\u001b[0m \u001b[32m60.8/60.8 kB\u001b[0m \u001b[31m7.3 MB/s\u001b[0m eta \u001b[36m0:00:00\u001b[0m\n",
            "\u001b[2K     \u001b[90m━━━━━━━━━━━━━━━━━━━━━━━━━━━━━━━━━━━━━━━━\u001b[0m \u001b[32m41.3/41.3 kB\u001b[0m \u001b[31m4.2 MB/s\u001b[0m eta \u001b[36m0:00:00\u001b[0m\n",
            "\u001b[2K     \u001b[90m━━━━━━━━━━━━━━━━━━━━━━━━━━━━━━━━━━━━━━━━\u001b[0m \u001b[32m5.4/5.4 MB\u001b[0m \u001b[31m44.8 MB/s\u001b[0m eta \u001b[36m0:00:00\u001b[0m\n",
            "\u001b[2K     \u001b[90m━━━━━━━━━━━━━━━━━━━━━━━━━━━━━━━━━━━━━━━━\u001b[0m \u001b[32m6.8/6.8 MB\u001b[0m \u001b[31m72.3 MB/s\u001b[0m eta \u001b[36m0:00:00\u001b[0m\n",
            "\u001b[2K     \u001b[90m━━━━━━━━━━━━━━━━━━━━━━━━━━━━━━━━━━━━━━━━\u001b[0m \u001b[32m60.1/60.1 kB\u001b[0m \u001b[31m5.9 MB/s\u001b[0m eta \u001b[36m0:00:00\u001b[0m\n",
            "\u001b[2K     \u001b[90m━━━━━━━━━━━━━━━━━━━━━━━━━━━━━━━━━━━━━━━━\u001b[0m \u001b[32m106.1/106.1 kB\u001b[0m \u001b[31m11.0 MB/s\u001b[0m eta \u001b[36m0:00:00\u001b[0m\n",
            "\u001b[2K     \u001b[90m━━━━━━━━━━━━━━━━━━━━━━━━━━━━━━━━━━━━━━━━\u001b[0m \u001b[32m67.3/67.3 kB\u001b[0m \u001b[31m6.7 MB/s\u001b[0m eta \u001b[36m0:00:00\u001b[0m\n",
            "\u001b[?25h  Installing build dependencies ... \u001b[?25l\u001b[?25hdone\n",
            "  Getting requirements to build wheel ... \u001b[?25l\u001b[?25hdone\n",
            "  Preparing metadata (pyproject.toml) ... \u001b[?25l\u001b[?25hdone\n",
            "\u001b[2K     \u001b[90m━━━━━━━━━━━━━━━━━━━━━━━━━━━━━━━━━━━━━━━━\u001b[0m \u001b[32m698.9/698.9 kB\u001b[0m \u001b[31m42.4 MB/s\u001b[0m eta \u001b[36m0:00:00\u001b[0m\n",
            "\u001b[2K     \u001b[90m━━━━━━━━━━━━━━━━━━━━━━━━━━━━━━━━━━━━━━━━\u001b[0m \u001b[32m1.6/1.6 MB\u001b[0m \u001b[31m71.8 MB/s\u001b[0m eta \u001b[36m0:00:00\u001b[0m\n",
            "\u001b[2K     \u001b[90m━━━━━━━━━━━━━━━━━━━━━━━━━━━━━━━━━━━━━━━━\u001b[0m \u001b[32m67.6/67.6 kB\u001b[0m \u001b[31m8.3 MB/s\u001b[0m eta \u001b[36m0:00:00\u001b[0m\n",
            "\u001b[2K     \u001b[90m━━━━━━━━━━━━━━━━━━━━━━━━━━━━━━━━━━━━━━━━\u001b[0m \u001b[32m71.9/71.9 kB\u001b[0m \u001b[31m7.5 MB/s\u001b[0m eta \u001b[36m0:00:00\u001b[0m\n",
            "\u001b[2K     \u001b[90m━━━━━━━━━━━━━━━━━━━━━━━━━━━━━━━━━━━━━━━━\u001b[0m \u001b[32m46.0/46.0 kB\u001b[0m \u001b[31m5.0 MB/s\u001b[0m eta \u001b[36m0:00:00\u001b[0m\n",
            "\u001b[2K     \u001b[90m━━━━━━━━━━━━━━━━━━━━━━━━━━━━━━━━━━━━━━━━\u001b[0m \u001b[32m50.8/50.8 kB\u001b[0m \u001b[31m5.8 MB/s\u001b[0m eta \u001b[36m0:00:00\u001b[0m\n",
            "\u001b[2K     \u001b[90m━━━━━━━━━━━━━━━━━━━━━━━━━━━━━━━━━━━━━━━━\u001b[0m \u001b[32m341.4/341.4 kB\u001b[0m \u001b[31m32.6 MB/s\u001b[0m eta \u001b[36m0:00:00\u001b[0m\n",
            "\u001b[2K     \u001b[90m━━━━━━━━━━━━━━━━━━━━━━━━━━━━━━━━━━━━━━━━\u001b[0m \u001b[32m3.4/3.4 MB\u001b[0m \u001b[31m83.7 MB/s\u001b[0m eta \u001b[36m0:00:00\u001b[0m\n",
            "\u001b[2K     \u001b[90m━━━━━━━━━━━━━━━━━━━━━━━━━━━━━━━━━━━━━━━━\u001b[0m \u001b[32m1.3/1.3 MB\u001b[0m \u001b[31m65.2 MB/s\u001b[0m eta \u001b[36m0:00:00\u001b[0m\n",
            "\u001b[2K     \u001b[90m━━━━━━━━━━━━━━━━━━━━━━━━━━━━━━━━━━━━━━━━\u001b[0m \u001b[32m130.2/130.2 kB\u001b[0m \u001b[31m14.1 MB/s\u001b[0m eta \u001b[36m0:00:00\u001b[0m\n",
            "\u001b[2K     \u001b[90m━━━━━━━━━━━━━━━━━━━━━━━━━━━━━━━━━━━━━━━━\u001b[0m \u001b[32m86.8/86.8 kB\u001b[0m \u001b[31m10.0 MB/s\u001b[0m eta \u001b[36m0:00:00\u001b[0m\n",
            "\u001b[?25h  Building wheel for pypika (pyproject.toml) ... \u001b[?25l\u001b[?25hdone\n"
          ]
        }
      ]
    },
    {
      "cell_type": "code",
      "source": [
        "%pip install --upgrade --quiet  docx2txt"
      ],
      "metadata": {
        "id": "Xvl_2xU00gQp",
        "colab": {
          "base_uri": "https://localhost:8080/"
        },
        "outputId": "c9dd56a2-1cf4-4703-c512-58b0d058c887"
      },
      "execution_count": 6,
      "outputs": [
        {
          "output_type": "stream",
          "name": "stdout",
          "text": [
            "  Preparing metadata (setup.py) ... \u001b[?25l\u001b[?25hdone\n",
            "  Building wheel for docx2txt (setup.py) ... \u001b[?25l\u001b[?25hdone\n"
          ]
        }
      ]
    },
    {
      "cell_type": "code",
      "source": [
        "!pip install --quiet langchain_experimental langchain_openai"
      ],
      "metadata": {
        "id": "i7XmTxwfLAUg",
        "colab": {
          "base_uri": "https://localhost:8080/"
        },
        "outputId": "362d4503-ada4-4d1d-ee94-a17cd704bb0b"
      },
      "execution_count": 7,
      "outputs": [
        {
          "output_type": "stream",
          "name": "stdout",
          "text": [
            "\u001b[?25l     \u001b[90m━━━━━━━━━━━━━━━━━━━━━━━━━━━━━━━━━━━━━━━━\u001b[0m \u001b[32m0.0/193.4 kB\u001b[0m \u001b[31m?\u001b[0m eta \u001b[36m-:--:--\u001b[0m\r\u001b[2K     \u001b[91m━━━━━━━━━━━━\u001b[0m\u001b[91m╸\u001b[0m\u001b[90m━━━━━━━━━━━━━━━━━━━━━━━━━━━\u001b[0m \u001b[32m61.4/193.4 kB\u001b[0m \u001b[31m1.6 MB/s\u001b[0m eta \u001b[36m0:00:01\u001b[0m\r\u001b[2K     \u001b[90m━━━━━━━━━━━━━━━━━━━━━━━━━━━━━━━━━━━━━━━━\u001b[0m \u001b[32m193.4/193.4 kB\u001b[0m \u001b[31m2.9 MB/s\u001b[0m eta \u001b[36m0:00:00\u001b[0m\n",
            "\u001b[?25h"
          ]
        }
      ]
    },
    {
      "cell_type": "code",
      "source": [
        "%pip install -qU langchain-text-splitters"
      ],
      "metadata": {
        "id": "FVIZis4z5r8L"
      },
      "execution_count": 8,
      "outputs": []
    },
    {
      "cell_type": "markdown",
      "source": [
        "# Importation"
      ],
      "metadata": {
        "id": "oo1cKvEFaKI1"
      }
    },
    {
      "cell_type": "code",
      "source": [
        "from langchain_community.chat_models import ChatCohere\n",
        "from langchain_core.prompts import ChatPromptTemplate\n",
        "from langchain_core.output_parsers import StrOutputParser\n",
        "from langchain_community.document_loaders import TextLoader, PyPDFLoader\n",
        "from langchain_community.embeddings import CohereEmbeddings\n",
        "from google.colab import userdata"
      ],
      "metadata": {
        "id": "ht82sFL1mPrD"
      },
      "execution_count": 4,
      "outputs": []
    },
    {
      "cell_type": "code",
      "source": [
        "from llama_index.core import Document, VectorStoreIndex, SimpleDirectoryReader, Settings\n",
        "from llama_index.embeddings.huggingface import HuggingFaceEmbedding\n",
        "import os"
      ],
      "metadata": {
        "id": "NWX5UawnoiqT"
      },
      "execution_count": null,
      "outputs": []
    },
    {
      "cell_type": "markdown",
      "source": [
        "# Initialze & Test LLM"
      ],
      "metadata": {
        "id": "gWfNmEhjbR9m"
      }
    },
    {
      "cell_type": "code",
      "execution_count": 6,
      "metadata": {
        "id": "GjzAF7h48rGz",
        "colab": {
          "base_uri": "https://localhost:8080/"
        },
        "outputId": "b22c991b-9fce-49ca-d585-f5252f74fce4"
      },
      "outputs": [
        {
          "output_type": "stream",
          "name": "stderr",
          "text": [
            "/usr/local/lib/python3.10/dist-packages/langchain_core/_api/deprecation.py:119: LangChainDeprecationWarning: The class `ChatCohere` was deprecated in LangChain 0.0.30 and will be removed in 0.2.0. An updated version of the class exists in the langchain-cohere package and should be used instead. To use it run `pip install -U langchain-cohere` and import as `from langchain_cohere import ChatCohere`.\n",
            "  warn_deprecated(\n"
          ]
        }
      ],
      "source": [
        "cohere_api_key=userdata.get('COHERE_API_KEY')\n",
        "llm = ChatCohere(cohere_api_key=cohere_api_key)"
      ]
    },
    {
      "cell_type": "code",
      "source": [
        "llm.invoke(\"comment langsmith peut m'aider à effectuer des tests?\")"
      ],
      "metadata": {
        "id": "Ixy23wi17V8l"
      },
      "execution_count": null,
      "outputs": []
    },
    {
      "cell_type": "code",
      "source": [
        "prompt = ChatPromptTemplate.from_messages([\n",
        "    (\"system\", \"Vous etes un écrivain de poésie.\"),\n",
        "    (\"user\", \"{input}\")\n",
        "])"
      ],
      "metadata": {
        "id": "jt5kvskr7pRk"
      },
      "execution_count": null,
      "outputs": []
    },
    {
      "cell_type": "code",
      "source": [
        "output_parser = StrOutputParser()"
      ],
      "metadata": {
        "id": "IqLEMz8N71d8"
      },
      "execution_count": null,
      "outputs": []
    },
    {
      "cell_type": "code",
      "source": [
        "chain = prompt | llm | output_parser"
      ],
      "metadata": {
        "id": "VGAEfG-b742U"
      },
      "execution_count": null,
      "outputs": []
    },
    {
      "cell_type": "code",
      "source": [
        "poeme = chain.invoke({\"input\": \"Créer un poème sur la beauté de l'univers.\"})"
      ],
      "metadata": {
        "id": "C5Wbt8pg77vl"
      },
      "execution_count": null,
      "outputs": []
    },
    {
      "cell_type": "code",
      "source": [
        "poeme_modifie = poeme.replace('\\n', '\\n') # Replace '\\n' by return to the line\n",
        "\n",
        "print(poeme_modifie)"
      ],
      "metadata": {
        "id": "SQf4YuwKnYFV"
      },
      "execution_count": null,
      "outputs": []
    },
    {
      "cell_type": "markdown",
      "source": [
        "# Embedding parts"
      ],
      "metadata": {
        "id": "1ZB1V2h5ALh1"
      }
    },
    {
      "cell_type": "markdown",
      "source": [
        "## Load files"
      ],
      "metadata": {
        "id": "HKIKrtBgqQTb"
      }
    },
    {
      "cell_type": "markdown",
      "source": [
        "for docx file"
      ],
      "metadata": {
        "id": "6bREQmwi0YZt"
      }
    },
    {
      "cell_type": "code",
      "source": [
        "from langchain_community.document_loaders import Docx2txtLoader\n",
        "loader1 = Docx2txtLoader(\"/content/drive/MyDrive/thingsboars.docx\") # the path to ur file\n",
        "data1 = loader1.load()"
      ],
      "metadata": {
        "id": "4wkKFn1AzhBV"
      },
      "execution_count": 18,
      "outputs": []
    },
    {
      "cell_type": "code",
      "source": [
        "data1[0].page_content"
      ],
      "metadata": {
        "colab": {
          "base_uri": "https://localhost:8080/",
          "height": 140
        },
        "id": "hE0GoOp80lrE",
        "outputId": "38cf63f9-2c4a-4100-c89c-7642f4cc0168"
      },
      "execution_count": 19,
      "outputs": [
        {
          "output_type": "execute_result",
          "data": {
            "text/plain": [
              "'Home page\\n\\nLa page d\\'accueil de ThingsBoard est le tableau de bord principal de la plateforme IoT ThingsBoard. Elle offre un emplacement central où vous pouvez consulter vos appareils, vos données et vos applications. La page d\\'accueil est divisée en plusieurs sections, notamment\\n\\nTableaux de bord : Cette section affiche une liste de vos tableaux de bord. Les tableaux de bord sont utilisés pour visualiser vos données d\\'une manière facile à comprendre.\\n\\nAppareils : Cette section affiche une liste de vos appareils. Les appareils sont des entités physiques ou virtuelles qui collectent des données dans le monde réel.\\n\\nFlux de données : Cette section affiche une liste de vos flux de données. Les flux de données sont les canaux par lesquels les données sont envoyées des appareils au ThingsBoard.\\n\\nApplications : Cette section affiche une liste de vos applications. Les applications sont des logiciels que vous pouvez utiliser pour interagir avec vos données.\\n\\nÉvénements : Cette section affiche une liste d\\'événements. Les événements sont des notifications envoyées par ThingsBoard lorsque quelque chose se produit, comme la connexion d\\'un appareil ou la création d\\'un flux de données.\\n\\nLa page d\\'accueil comprend également une barre de recherche que vous pouvez utiliser pour trouver des appareils, des flux de données ou des applications spécifiques. Vous pouvez également utiliser la page d\\'accueil pour créer de nouveaux tableaux de bord, appareils, flux de données et applications.\\n\\nLa page d\\'accueil de ThingsBoard est un outil puissant qui peut vous aider à gérer vos projets IoT. Elle offre un emplacement central où vous pouvez consulter vos données, vos appareils et vos applications. La page d\\'accueil comprend également une variété d\\'outils que vous pouvez utiliser pour interagir avec vos données.\\n\\nVoici quelques-unes des caractéristiques de la page d\\'accueil de ThingsBoard :\\n\\nTableaux de bord : Vous pouvez créer et gérer des tableaux de bord pour visualiser vos données.\\n\\nAppareils : Vous pouvez gérer vos appareils, notamment les ajouter, les mettre à jour et les supprimer.\\n\\nFlux de données : Vous pouvez gérer vos flux de données, notamment les ajouter, les mettre à jour et les supprimer.\\n\\nApplications : Vous pouvez créer et gérer des applications pour interagir avec vos données.\\n\\nÉvénements : Vous pouvez afficher les événements qui ont été générés par ThingsBoard.\\n\\nRecherche : Vous pouvez rechercher des appareils, des flux de données ou des applications spécifiques.\\n\\nLa page d\\'accueil de ThingsBoard est un outil puissant qui peut vous aider à gérer vos projets IoT. Si vous utilisez ThingsBoard, vous devriez vous familiariser avec la page d\\'accueil. C\\'est un outil précieux qui peut vous aider à tirer le meilleur parti de ThingsBoard.\\n\\nLogin page\\n\\nLa page de connexion de ThingsBoard est la page que vous utilisez pour accéder à la plateforme IoT de ThingsBoard. La page de connexion est divisée en deux sections :\\n\\n*Nom d\\'utilisateur et mot de passe : Cette section est l\\'endroit où vous entrez votre nom d\\'utilisateur et votre mot de passe.\\n\\n*Se souvenir de moi : Cette case à cocher vous permet de rester connecté à ThingsBoard après avoir fermé votre navigateur.\\n\\nSi vous n\\'avez pas de compte ThingsBoard, vous pouvez en créer un en cliquant sur le bouton \"S\\'inscrire\".\\n\\nLa page de connexion de ThingsBoard est une page simple, mais c\\'est une partie importante de la plateforme ThingsBoard. C\\'est la porte d\\'accès à vos données, appareils et applications.\\n\\nAlarmes page\\n\\n\\n\\nLes alarmes de ThingsBoard sont utilisées pour avertir les utilisateurs lorsque quelque chose d\\'inattendu se produit avec leurs appareils ou leurs données. Les alarmes peuvent être déclenchées par une variété de conditions, telles que la mise hors ligne d\\'un appareil, la lecture d\\'un capteur en dehors d\\'une plage spécifiée ou la violation d\\'une règle.\\n\\nLes alarmes de ThingsBoard sont un outil puissant qui peut vous aider à suivre vos projets IoT et à prendre des mesures lorsque quelque chose ne va pas.\\n\\nVoici quelques-unes des caractéristiques des alarmes ThingsBoard :\\n\\n* Conditions de déclenchement : Les alarmes peuvent être déclenchées par une variété de conditions, telles que la mise hors ligne d\\'un appareil, la lecture d\\'un capteur en dehors d\\'une plage spécifiée, ou la violation d\\'une règle.\\n\\n* Notifications : Les alarmes peuvent être utilisées pour notifier les utilisateurs par courriel, SMS ou notification push.\\n\\n* Actions : Les alarmes peuvent être utilisées pour déclencher des actions, telles que l\\'envoi d\\'un message à un appareil, la mise à jour d\\'une base de données ou le lancement d\\'un flux de travail.\\n\\n* Historique : Les alarmes sont stockées dans l\\'historique de ThingsBoard, de sorte que vous pouvez les consulter à tout moment.\\n\\nDevice\\n\\nLa page ThingsBoard Devices est l\\'endroit où vous pouvez gérer vos appareils. Vous pouvez ajouter et supprimer des appareils, gérer les informations d\\'identification des appareils, obtenir l\\'ID de l\\'appareil, attribuer des appareils à des clients, parcourir les attributs des appareils, parcourir la télémétrie des appareils, parcourir les alarmes des appareils, parcourir les événements des appareils et gérer les relations entre les appareils.\\n\\n\\n\\nPour ajouter un appareil, vous pouvez cliquer sur l\\'icône \"+\" dans le coin supérieur droit du tableau, puis sélectionner \"Ajouter un nouvel appareil\". Vous devrez fournir un nom de dispositif et, éventuellement, un type de dispositif.\\n\\nUne fois que vous avez ajouté un appareil, vous pouvez gérer ses informations d\\'identification en cliquant sur l\\'onglet \"Informations d\\'identification\". Vous pouvez visualiser le jeton d\\'accès et le secret de l\\'appareil, ainsi que générer de nouveaux jetons.\\n\\nPour parcourir les attributs, la télémétrie, les alarmes, les événements et les relations de l\\'appareil, vous pouvez cliquer sur les onglets correspondants. Ces onglets affichent une liste de toutes les données collectées à partir de l\\'appareil.\\n\\nLa page ThingsBoard Devices est un outil puissant pour gérer vos appareils. Vous pouvez l\\'utiliser pour assurer le suivi de vos appareils, consulter leurs données et gérer leurs informations d\\'identification.\\n\\n\\n\\n\\n\\n\\n\\n\\n\\nUne chaîne de règles ThingsBoard est une séquence de nœuds de règles qui sont exécutés dans l\\'ordre. Chaque nœud de règle d\\'une chaîne de règles exécute une tâche spécifique, comme le filtrage de données, la transformation de données ou le déclenchement d\\'une action.\\n\\nLes chaînes de règles constituent un outil puissant pour le traitement des données provenant des appareils IoT. Elles peuvent être utilisées pour :\\n\\n* Valider les données : Les chaînes de règles peuvent être utilisées pour valider les données provenant des appareils IoT. Cela permet de s\\'assurer que les données sont exactes et complètes.\\n\\n* Transformer les données : Les chaînes de règles peuvent être utilisées pour transformer les données provenant des dispositifs IdO. Cela permet de rendre les données plus utiles pour l\\'analyse ou la visualisation.\\n\\n* Déclencher des actions : Les chaînes de règles peuvent être utilisées pour déclencher des actions basées sur des données provenant d\\'appareils IoT. Cela peut aider à automatiser des tâches ou à informer les utilisateurs d\\'événements importants.\\n\\n\\n\\nVoici d\\'autres choses que vous pouvez faire avec les chaînes de règles de ThingsBoard :\\n\\n\\n\\n* Exporter et importer des chaînes de règles : Vous pouvez exporter et importer des chaînes de règles depuis et vers la plateforme ThingsBoard. Cela peut être utile pour partager des chaînes de règles avec d\\'autres utilisateurs ou pour sauvegarder vos chaînes de règles.\\n\\n* Déboguer les chaînes de règles : Vous pouvez déboguer les chaînes de règles en activant le mode débogage. Cela vous permettra de voir l\\'exécution de votre chaîne de règles étape par étape.\\n\\n* Planifier des chaînes de règles : Vous pouvez programmer l\\'exécution de chaînes de règles à des moments ou à des intervalles spécifiques. Cela peut être utile pour automatiser des tâches ou pour traiter régulièrement des données provenant d\\'appareils IoT.'"
            ],
            "application/vnd.google.colaboratory.intrinsic+json": {
              "type": "string"
            }
          },
          "metadata": {},
          "execution_count": 19
        }
      ]
    },
    {
      "cell_type": "markdown",
      "source": [
        "for a pdf file"
      ],
      "metadata": {
        "id": "bUO9Sfrd0rJi"
      }
    },
    {
      "cell_type": "code",
      "source": [
        "loader2 = PyPDFLoader(\"/content/drive/MyDrive/test.pdf\")\n",
        "pages = loader2.load_and_split()"
      ],
      "metadata": {
        "id": "kM5RHqGJnkMa"
      },
      "execution_count": 20,
      "outputs": []
    },
    {
      "cell_type": "code",
      "source": [
        "pages[20]"
      ],
      "metadata": {
        "id": "Teq4MEwopOOI"
      },
      "execution_count": null,
      "outputs": []
    },
    {
      "cell_type": "code",
      "source": [
        "pages[6].page_content"
      ],
      "metadata": {
        "colab": {
          "base_uri": "https://localhost:8080/",
          "height": 87
        },
        "id": "3uyxIDZlKezZ",
        "outputId": "d13f4a0e-892a-4018-8796-0326ecb08b7d"
      },
      "execution_count": 21,
      "outputs": [
        {
          "output_type": "execute_result",
          "data": {
            "text/plain": [
              "'Support pédagogique du module : Culture Entrepreneuriale Version 1.2 – Septembre 2008 \\nCUIES – Université de Sfax  5/34 La diffusion de la culture entrepreneuriale pe rmettra de « déplacer » les apprenants (jeunes \\ngénérations) de la logique de  demandeurs d’emploi à celle de pourvoyeurs d’emploi. Elle \\nles incitera à devenir entrepreneurs de leur vie  et à leur d onner  l’envie de prendre leur \\navenir en main. Etre entrepreneur de so i constitue l’objectif  ultime de ce module.'"
            ],
            "application/vnd.google.colaboratory.intrinsic+json": {
              "type": "string"
            }
          },
          "metadata": {},
          "execution_count": 21
        }
      ]
    },
    {
      "cell_type": "code",
      "source": [
        "data2= loader2.load()"
      ],
      "metadata": {
        "id": "N4UYsF71sFD8"
      },
      "execution_count": 22,
      "outputs": []
    },
    {
      "cell_type": "code",
      "source": [
        "data2[14]"
      ],
      "metadata": {
        "colab": {
          "base_uri": "https://localhost:8080/"
        },
        "id": "YrC4HGEAsQE4",
        "outputId": "9b3dc60d-1f05-43c0-bc6a-db8f1108958d"
      },
      "execution_count": 23,
      "outputs": [
        {
          "output_type": "execute_result",
          "data": {
            "text/plain": [
              "Document(page_content='Support pédagogique du module : Culture Entrepreneuriale Version 1.2 – Septembre 2008 \\nCUIES – Université de Sfax  15/34 Chapitre 3 : Connaissance et conscience de soi et de son \\npotentiel \\n« Celui qui conquiert les autres est fort.  \\nCelui qui se conquiert lui-même est puissant  » \\nLao Tseu \\n \\nSoun Tse, l’inspirateur de Mao Zédõng  \\nest l’un des grands stratèges de  la Chine antique, a écrit :  \\n« Connais l’adversaire et surtou t connais-toi toi-même  \\net tu seras invincible »  \\n(L’art de la guerre ) \\n \\n« Je préfère m’arrêter en ayant raté des choses  \\nqu’en n’ayant pas essayé des choses  \\nque j’avais envie de faire  » \\nJacques Brel  \\nExpliquer ce qui peut pousser quelqu’un à se lancer dans l’ aventure entrepreneuriale ; \\nénumérer, en les expliquant brièvement, les pr incipales qualités qui sont souhaitables chez \\nun entrepreneur ainsi que, parallèlement, le s principaux défauts ou manquements à éviter ; \\nélaborer votre propre profil entr epreneurial par le bi ais d’une auto-évaluation de vos forces \\net faiblesses ; faire connaître aux étudiants le métier de l’entrepreneur à partir d’éléments \\nplus facilement identifiables : les activités-clés de l’entrepreneur, les caractéristiques, compétences et apprentissages requis pour mieux l’exercer. \\n1 LES MOTIVATIONS D’ENTREPRENDRE \\nLes motivations d’entreprendre sont  de différents ordres  et de différentes natures, à savoir : \\n– Désir, besoin, volonté d’entreprendre ; \\n– Désir d’indépendance (d’être libre) ; \\n– Goût du pouvoir (d’être son propre patron) ; \\n– Volonté de \"se réaliser\", d’accomplissement ; \\n– Besoin de reconnaissance sociale ; \\n– Passion pour un produit, une activité ; \\n– Challenge, défi, fun ; \\n– Recherche du pouvoir. \\n1.1 LES MOTIVATIONS INTERNES VS MOTIVATIONS EXTERNES  \\nLe projet entrepreneurial peut être stimulé par des motivations  internes (désir d’autonomie \\net d’indépendance) ou par des motivations exte rnes (les encouragements, les incitations). ', metadata={'source': '/content/drive/MyDrive/test.pdf', 'page': 14})"
            ]
          },
          "metadata": {},
          "execution_count": 23
        }
      ]
    },
    {
      "cell_type": "markdown",
      "source": [
        "---------------------------------------------------------------------"
      ],
      "metadata": {
        "id": "OZdj1t9Vsmi5"
      }
    },
    {
      "cell_type": "markdown",
      "source": [
        "This parsing options contains detailed metadata about the PDF and its pages, as well as returns one document per page."
      ],
      "metadata": {
        "id": "NWjeaIKkrhIz"
      }
    },
    {
      "cell_type": "code",
      "source": [
        "!pip install pymupdf"
      ],
      "metadata": {
        "colab": {
          "base_uri": "https://localhost:8080/"
        },
        "id": "Fw-f_zwJWxKz",
        "outputId": "03cdd320-13da-47e3-82ea-f7eb1f389046"
      },
      "execution_count": 25,
      "outputs": [
        {
          "output_type": "stream",
          "name": "stdout",
          "text": [
            "Collecting pymupdf\n",
            "  Downloading PyMuPDF-1.24.2-cp310-none-manylinux2014_x86_64.whl (3.5 MB)\n",
            "\u001b[2K     \u001b[90m━━━━━━━━━━━━━━━━━━━━━━━━━━━━━━━━━━━━━━━━\u001b[0m \u001b[32m3.5/3.5 MB\u001b[0m \u001b[31m30.6 MB/s\u001b[0m eta \u001b[36m0:00:00\u001b[0m\n",
            "\u001b[?25hCollecting PyMuPDFb==1.24.1 (from pymupdf)\n",
            "  Downloading PyMuPDFb-1.24.1-py3-none-manylinux2014_x86_64.manylinux_2_17_x86_64.whl (30.8 MB)\n",
            "\u001b[2K     \u001b[90m━━━━━━━━━━━━━━━━━━━━━━━━━━━━━━━━━━━━━━━━\u001b[0m \u001b[32m30.8/30.8 MB\u001b[0m \u001b[31m25.5 MB/s\u001b[0m eta \u001b[36m0:00:00\u001b[0m\n",
            "\u001b[?25hInstalling collected packages: PyMuPDFb, pymupdf\n",
            "Successfully installed PyMuPDFb-1.24.1 pymupdf-1.24.2\n"
          ]
        }
      ]
    },
    {
      "cell_type": "code",
      "source": [
        "from langchain_community.document_loaders import PyMuPDFLoader\n",
        "loader3 = PyMuPDFLoader(\"/content/drive/MyDrive/test.pdf\")\n",
        "data3 = loader3.load()"
      ],
      "metadata": {
        "id": "2oQr-RE2rdbj"
      },
      "execution_count": 26,
      "outputs": []
    },
    {
      "cell_type": "code",
      "source": [
        "print(f\"number of documents {len(data3)}\")"
      ],
      "metadata": {
        "id": "xjFlXvHBMnYQ"
      },
      "execution_count": null,
      "outputs": []
    },
    {
      "cell_type": "code",
      "source": [
        "#merge all document in one document\n",
        "document=Document(text=\"\\n\\n\".join([doc.page_content for doc in data3]))"
      ],
      "metadata": {
        "id": "T1Kzz3hyM964"
      },
      "execution_count": 27,
      "outputs": []
    },
    {
      "cell_type": "code",
      "source": [
        "#change the id of document\n",
        "document.id_=\"test\""
      ],
      "metadata": {
        "id": "PoeYdCdqNYBR"
      },
      "execution_count": 28,
      "outputs": []
    },
    {
      "cell_type": "markdown",
      "source": [
        "## split up that docs into chunks"
      ],
      "metadata": {
        "id": "Q0BzPeehtE0e"
      }
    },
    {
      "cell_type": "code",
      "source": [
        "from langchain_text_splitters import RecursiveCharacterTextSplitter"
      ],
      "metadata": {
        "id": "8NkG3uRx5xba"
      },
      "execution_count": 29,
      "outputs": []
    },
    {
      "cell_type": "code",
      "source": [
        "text_splitter = RecursiveCharacterTextSplitter(\n",
        "    # Set a really small chunk size, just to show.\n",
        "    chunk_size=350,\n",
        "    chunk_overlap=20,\n",
        "    length_function=len,\n",
        "    is_separator_regex=False,\n",
        ")"
      ],
      "metadata": {
        "id": "fg3c2J3m5216"
      },
      "execution_count": 30,
      "outputs": []
    },
    {
      "cell_type": "code",
      "source": [
        "embedding=HuggingFaceEmbedding(model_name=\"sentence-transformers/all-mpnet-base-v2\")"
      ],
      "metadata": {
        "id": "o8vb50hXWl1U"
      },
      "execution_count": null,
      "outputs": []
    },
    {
      "cell_type": "code",
      "source": [
        "from langchain_cohere import CohereEmbeddings\n",
        "\n",
        "embeddings_model = CohereEmbeddings(cohere_api_key=cohere_api_key)"
      ],
      "metadata": {
        "id": "7yU92PLXAO_z"
      },
      "execution_count": 44,
      "outputs": []
    },
    {
      "cell_type": "markdown",
      "source": [
        "### semantic chunk"
      ],
      "metadata": {
        "id": "a_RQWmkWPUl6"
      }
    },
    {
      "cell_type": "markdown",
      "source": [
        "This chunker works by determining when to “break” apart sentences. This is done by looking for differences in embeddings between any two sentences. When that difference is past some threshold, then they are split."
      ],
      "metadata": {
        "id": "v27HKrDQQSG1"
      }
    },
    {
      "cell_type": "code",
      "source": [
        "from langchain_experimental.text_splitter import SemanticChunker"
      ],
      "metadata": {
        "id": "AvkhLk5CK7hw"
      },
      "execution_count": 33,
      "outputs": []
    },
    {
      "cell_type": "code",
      "source": [
        "text_splitter1 = SemanticChunker(embeddings_model, breakpoint_threshold_type=\"percentile\")"
      ],
      "metadata": {
        "id": "NAm5CsrqQAYh"
      },
      "execution_count": 45,
      "outputs": []
    },
    {
      "cell_type": "code",
      "source": [
        "text_splitter2 = SemanticChunker(embeddings_model, breakpoint_threshold_type=\"standard_deviation\")"
      ],
      "metadata": {
        "id": "VBSntcQDLGQg"
      },
      "execution_count": 35,
      "outputs": []
    },
    {
      "cell_type": "code",
      "source": [
        "text_splitter3 = SemanticChunker(embeddings_model, breakpoint_threshold_type=\"interquartile\")"
      ],
      "metadata": {
        "id": "mWEJBUnTQfIy"
      },
      "execution_count": 53,
      "outputs": []
    },
    {
      "cell_type": "markdown",
      "source": [
        "------------------------------------"
      ],
      "metadata": {
        "id": "ExUJONewQ6Zh"
      }
    },
    {
      "cell_type": "code",
      "source": [
        "docs = text_splitter1.create_documents([doc.page_content for doc in data3])"
      ],
      "metadata": {
        "id": "Cry1oxl_Ltio"
      },
      "execution_count": 46,
      "outputs": []
    },
    {
      "cell_type": "code",
      "source": [
        "print(docs[1].page_content)"
      ],
      "metadata": {
        "id": "8LoDdIhFOsxg"
      },
      "execution_count": null,
      "outputs": []
    },
    {
      "cell_type": "code",
      "source": [
        "len(docs)"
      ],
      "metadata": {
        "id": "F_YRIsCyO5h5"
      },
      "execution_count": null,
      "outputs": []
    },
    {
      "cell_type": "markdown",
      "source": [
        "------------------------------------------------------"
      ],
      "metadata": {
        "id": "H5jkL04kQ7nh"
      }
    },
    {
      "cell_type": "code",
      "source": [
        "docs2 = text_splitter2.create_documents([doc.page_content for doc in data3])"
      ],
      "metadata": {
        "id": "iz4a-Z-vQ805"
      },
      "execution_count": null,
      "outputs": []
    },
    {
      "cell_type": "code",
      "source": [
        "print(docs2[1].page_content)"
      ],
      "metadata": {
        "id": "ms8P_d5sRA-I"
      },
      "execution_count": null,
      "outputs": []
    },
    {
      "cell_type": "code",
      "source": [
        "len(docs2)"
      ],
      "metadata": {
        "id": "4inK_ymiREGA"
      },
      "execution_count": null,
      "outputs": []
    },
    {
      "cell_type": "markdown",
      "source": [
        "-----------------------------"
      ],
      "metadata": {
        "id": "O22VyGepRHoA"
      }
    },
    {
      "cell_type": "code",
      "source": [
        "docs3 = text_splitter3.create_documents([doc.page_content for doc in data3])"
      ],
      "metadata": {
        "id": "54pUjTBlRI_w"
      },
      "execution_count": 54,
      "outputs": []
    },
    {
      "cell_type": "code",
      "source": [
        "print(docs3[1].page_content)"
      ],
      "metadata": {
        "id": "f4MiseVeRX75"
      },
      "execution_count": null,
      "outputs": []
    },
    {
      "cell_type": "code",
      "source": [
        "len(docs3)"
      ],
      "metadata": {
        "id": "sySqlq-aRaPo"
      },
      "execution_count": null,
      "outputs": []
    },
    {
      "cell_type": "markdown",
      "source": [
        "Embed documents"
      ],
      "metadata": {
        "id": "NMRfuO7ZS_YT"
      }
    },
    {
      "cell_type": "code",
      "source": [
        "embeddings = embeddings_model.embed_documents([doc.page_content for doc in docs])\n"
      ],
      "metadata": {
        "id": "FWRNanzVSXMZ"
      },
      "execution_count": 47,
      "outputs": []
    },
    {
      "cell_type": "code",
      "source": [
        "len(embeddings), len(embeddings[0])"
      ],
      "metadata": {
        "colab": {
          "base_uri": "https://localhost:8080/"
        },
        "id": "HsxoUSY5S5Ta",
        "outputId": "2534c7d0-a016-4812-d659-f4acbabd6029"
      },
      "execution_count": 48,
      "outputs": [
        {
          "output_type": "execute_result",
          "data": {
            "text/plain": [
              "(73, 4096)"
            ]
          },
          "metadata": {},
          "execution_count": 48
        }
      ]
    },
    {
      "cell_type": "markdown",
      "source": [
        "Embed Query"
      ],
      "metadata": {
        "id": "wWcIxLLtTSxh"
      }
    },
    {
      "cell_type": "code",
      "source": [
        "embedded_query = embeddings_model.embed_query(\"Culture Entrepreneuriale\")\n",
        "embedded_query[:5]"
      ],
      "metadata": {
        "colab": {
          "base_uri": "https://localhost:8080/"
        },
        "id": "apN3F-EGTY2a",
        "outputId": "10b183d8-4124-4b37-a219-e966063f1501"
      },
      "execution_count": 51,
      "outputs": [
        {
          "output_type": "execute_result",
          "data": {
            "text/plain": [
              "[1.6455078, -0.32666016, 0.9926758, -0.4416504, 1.8623047]"
            ]
          },
          "metadata": {},
          "execution_count": 51
        }
      ]
    },
    {
      "cell_type": "markdown",
      "source": [
        "## Vector Store : Chroma"
      ],
      "metadata": {
        "id": "xRtPrm5eUAcp"
      }
    },
    {
      "cell_type": "code",
      "source": [
        "from langchain_community.vectorstores import Chroma"
      ],
      "metadata": {
        "id": "AhEei8waWf6M"
      },
      "execution_count": 49,
      "outputs": []
    },
    {
      "cell_type": "code",
      "source": [
        "database = Chroma.from_documents(docs3, embeddings_model)"
      ],
      "metadata": {
        "id": "7h2CZ0iLWmdY"
      },
      "execution_count": 55,
      "outputs": []
    },
    {
      "cell_type": "markdown",
      "source": [
        "Similarity search"
      ],
      "metadata": {
        "id": "y7ri4LwVYhl4"
      }
    },
    {
      "cell_type": "code",
      "source": [
        "query = \"Culture Entrepreneuriale\"\n",
        "docs5 = database.similarity_search(query)\n",
        "print(docs5[0].page_content)"
      ],
      "metadata": {
        "id": "KBYCFtyPYiWR"
      },
      "execution_count": null,
      "outputs": []
    },
    {
      "cell_type": "code",
      "source": [
        "embedding_vector = embeddings_model.embed_query(query)\n",
        "docs6 = await database.asimilarity_search_by_vector(embedding_vector)\n",
        "print(docs6[0].page_content)"
      ],
      "metadata": {
        "id": "tzTkkGTZY4e4"
      },
      "execution_count": null,
      "outputs": []
    },
    {
      "cell_type": "code",
      "source": [
        "query = \"ENTREPRENEUR ET ENTREPRENEURIAT\"\n",
        "docs5 = database.similarity_search(query)\n",
        "print(docs5[0].page_content)"
      ],
      "metadata": {
        "id": "HAKlcIuNYxMs"
      },
      "execution_count": null,
      "outputs": []
    },
    {
      "cell_type": "markdown",
      "source": [
        "------------------------------new update------------"
      ],
      "metadata": {
        "id": "z1Koy3JgQtkj"
      }
    },
    {
      "cell_type": "code",
      "source": [
        "#Tavily’s Search API is a search engine built specifically for AI agents (LLMs), delivering real-time, accurate, and factual results at speed."
      ],
      "metadata": {
        "id": "QBZfkknfQwJj"
      },
      "execution_count": null,
      "outputs": []
    },
    {
      "cell_type": "code",
      "source": [
        "os.environ[\"FIREWORKS_API_KEY\"] =userdata.get('FIREWORKS_API_KEY')"
      ],
      "metadata": {
        "id": "iTAKLnDIcgIz"
      },
      "execution_count": 13,
      "outputs": []
    },
    {
      "cell_type": "code",
      "source": [
        "%pip install langchain-fireworks"
      ],
      "metadata": {
        "id": "Yd3fUrj3WOdj"
      },
      "execution_count": null,
      "outputs": []
    },
    {
      "cell_type": "code",
      "source": [
        "from langchain_fireworks import ChatFireworks\n",
        "mistral_llm = ChatFireworks(model=\"accounts/fireworks/models/mistral-7b-instruct-4k\")"
      ],
      "metadata": {
        "id": "F7CrS4iRctAE"
      },
      "execution_count": 16,
      "outputs": []
    },
    {
      "cell_type": "code",
      "source": [
        "mistral_llm.invoke(\"comment je peux savoir la bonne prompt pour qu'un modéle me génére un résultat précis? reponds moi en français\")"
      ],
      "metadata": {
        "colab": {
          "base_uri": "https://localhost:8080/"
        },
        "id": "JIMeqTvkdElz",
        "outputId": "eb0a20cd-3717-4512-b466-e2f7c4b1bb22"
      },
      "execution_count": 17,
      "outputs": [
        {
          "output_type": "execute_result",
          "data": {
            "text/plain": [
              "AIMessage(content=\"Comment je peux savoir la bonne prompt pour qu'un modéle me génère un résultat précis ?\\n\\nPour obtenir un résultat précis d'un modèle, il est important de fournir une bonne prompts qui spécifie les critères de l'output attendu. Voici quelques conseils pour écrire une bonne prompt :\\n\\n1. Définir les critères de l'output : Définir les critères de l'output attendu est le premier pas pour écrire une bonne prompt. Vous devrez décrire ce que vous espérez que le modèle produise.\\n2. Fournir des exemples : Fournir des exemples de ce que vous espérez que le modèle produise est très utile. Les exemples vous aideront à définir les critères de l'output attendu\", response_metadata={'token_usage': {'prompt_tokens': 87, 'total_tokens': 287, 'completion_tokens': 200}, 'model_name': 'accounts/fireworks/models/mistral-7b-instruct-4k', 'system_fingerprint': '', 'finish_reason': 'length', 'logprobs': None}, id='run-c75accf0-47ca-4157-ae6b-e141cbe61444-0')"
            ]
          },
          "metadata": {},
          "execution_count": 17
        }
      ]
    },
    {
      "cell_type": "code",
      "source": [
        "from langchain_community.tools.tavily_search import TavilySearchResults"
      ],
      "metadata": {
        "id": "lTSzvejaYojq"
      },
      "execution_count": 60,
      "outputs": []
    },
    {
      "cell_type": "code",
      "source": [
        "from google.colab import userdata\n",
        "%env TAVILY_API_KEY=userdata.get('TAVILY_API_KEY')"
      ],
      "metadata": {
        "colab": {
          "base_uri": "https://localhost:8080/"
        },
        "id": "fWiQKOWzYrfR",
        "outputId": "42fac647-118c-4e2e-8788-b8cc90d3bbe8"
      },
      "execution_count": 8,
      "outputs": [
        {
          "output_type": "stream",
          "name": "stdout",
          "text": [
            "env: TAVILY_API_KEY=userdata.get('TAVILY_API_KEY')\n"
          ]
        }
      ]
    },
    {
      "cell_type": "code",
      "source": [
        "search = TavilySearchResults()"
      ],
      "metadata": {
        "id": "O_N_a2qbYuD6"
      },
      "execution_count": 61,
      "outputs": []
    },
    {
      "cell_type": "code",
      "source": [
        "search.invoke(\"what is the weather in Casablanca Morocco\")"
      ],
      "metadata": {
        "id": "5EcxIKjRZgwx"
      },
      "execution_count": null,
      "outputs": []
    }
  ]
}