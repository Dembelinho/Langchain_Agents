{
  "nbformat": 4,
  "nbformat_minor": 0,
  "metadata": {
    "colab": {
      "provenance": [],
      "authorship_tag": "ABX9TyMp5X/9NmZoc+dOpI/Ekcrm",
      "include_colab_link": true
    },
    "kernelspec": {
      "name": "python3",
      "display_name": "Python 3"
    },
    "language_info": {
      "name": "python"
    }
  },
  "cells": [
    {
      "cell_type": "markdown",
      "metadata": {
        "id": "view-in-github",
        "colab_type": "text"
      },
      "source": [
        "<a href=\"https://colab.research.google.com/github/Dembelinho/Langchain_Agents_RAG_LLM/blob/main/Cohere_Semantic_Search.ipynb\" target=\"_parent\"><img src=\"https://colab.research.google.com/assets/colab-badge.svg\" alt=\"Open In Colab\"/></a>"
      ]
    },
    {
      "cell_type": "markdown",
      "source": [
        "# Testing Fireworks"
      ],
      "metadata": {
        "id": "07mkjp_7j7GD"
      }
    },
    {
      "cell_type": "code",
      "execution_count": null,
      "metadata": {
        "id": "7EERu6wIjmi0"
      },
      "outputs": [],
      "source": [
        "!pip install -qU langchain-fireworks"
      ]
    },
    {
      "cell_type": "markdown",
      "source": [
        "# Cohere"
      ],
      "metadata": {
        "id": "PNsg8OHRki0K"
      }
    },
    {
      "cell_type": "markdown",
      "source": [
        "---------------Semantic Search using cohere-----------------"
      ],
      "metadata": {
        "id": "RnwAeh3YkOST"
      }
    },
    {
      "cell_type": "markdown",
      "source": [
        "- Install Cohere for embeddings, Umap to reduce embeddings to 2 dimensions, Altair for visualization, Annoy for approximate nearest neighbor search"
      ],
      "metadata": {
        "id": "C-GxY_OGkyIQ"
      }
    },
    {
      "cell_type": "code",
      "source": [
        "!pip install \"cohere<5\" umap-learn altair annoy datasets tqdm"
      ],
      "metadata": {
        "id": "rzzJQXb3kOCi"
      },
      "execution_count": null,
      "outputs": []
    },
    {
      "cell_type": "code",
      "source": [
        "import cohere\n",
        "import numpy as np\n",
        "import re\n",
        "import pandas as pd\n",
        "from tqdm import tqdm\n",
        "from datasets import load_dataset\n",
        "import umap\n",
        "import altair as alt\n",
        "from sklearn.metrics.pairwise import cosine_similarity\n",
        "from annoy import AnnoyIndex\n",
        "import warnings\n",
        "warnings.filterwarnings('ignore')\n",
        "pd.set_option('display.max_colwidth', None)"
      ],
      "metadata": {
        "id": "6PU_V8bUkmGs"
      },
      "execution_count": null,
      "outputs": []
    },
    {
      "cell_type": "code",
      "source": [
        "from google.colab import userdata\n",
        "api_key =userdata.get('COHERE_API_KEY')"
      ],
      "metadata": {
        "id": "ODCe3WiUlUI8"
      },
      "execution_count": null,
      "outputs": []
    },
    {
      "cell_type": "markdown",
      "source": [
        "set up the cohere client"
      ],
      "metadata": {
        "id": "FFt8Vaq2l-mE"
      }
    },
    {
      "cell_type": "code",
      "source": [
        "model_name = \"embed-multilingual-v3.0\"\n",
        "input_type_embed = \"search_document\"\n",
        "co = cohere.Client(api_key)"
      ],
      "metadata": {
        "id": "IdHjbPqUmBi7"
      },
      "execution_count": null,
      "outputs": []
    },
    {
      "cell_type": "code",
      "source": [
        "!pip install langchain_community"
      ],
      "metadata": {
        "id": "AdGVpXLn0gPq"
      },
      "execution_count": null,
      "outputs": []
    },
    {
      "cell_type": "code",
      "source": [
        "!pip install pymupdf"
      ],
      "metadata": {
        "id": "5Eg1Lky53Ood"
      },
      "execution_count": null,
      "outputs": []
    },
    {
      "cell_type": "code",
      "source": [
        "!pip install -U langchain-text-splitters"
      ],
      "metadata": {
        "id": "UQ5qQ5RA4DPa"
      },
      "execution_count": null,
      "outputs": []
    },
    {
      "cell_type": "code",
      "source": [
        "from langchain_community.document_loaders import PyMuPDFLoader\n",
        "data = PyMuPDFLoader(\"/content/thingsboars.pdf\").load_and_split()"
      ],
      "metadata": {
        "id": "HGUZSbU_1_E2"
      },
      "execution_count": null,
      "outputs": []
    },
    {
      "cell_type": "code",
      "source": [
        "len(data)"
      ],
      "metadata": {
        "colab": {
          "base_uri": "https://localhost:8080/"
        },
        "id": "FUDsDpb83VIM",
        "outputId": "b05b614b-dc14-405c-ebea-766eebe20216"
      },
      "execution_count": null,
      "outputs": [
        {
          "output_type": "execute_result",
          "data": {
            "text/plain": [
              "3"
            ]
          },
          "metadata": {},
          "execution_count": 48
        }
      ]
    },
    {
      "cell_type": "code",
      "source": [
        "for document in data:\n",
        "    page_content = document.page_content.replace('\\n', ' ').split('.')\n",
        "    print(page_content)\n"
      ],
      "metadata": {
        "colab": {
          "base_uri": "https://localhost:8080/"
        },
        "id": "9xaqdHHo6XiN",
        "outputId": "7f9ee25f-80b0-466b-a066-ceb9a98dec74"
      },
      "execution_count": null,
      "outputs": [
        {
          "output_type": "stream",
          "name": "stdout",
          "text": [
            "[\"Home page  La page d'accueil de ThingsBoard est le tableau de bord principal de la plateforme IoT ThingsBoard\", '  Elle offre un emplacement central où vous pouvez consulter vos appareils, vos données et vos  applications', \" La page d'accueil est divisée en plusieurs sections, notamment  Tableaux de bord : Cette section affiche une liste de vos tableaux de bord\", \" Les tableaux de bord sont  utilisés pour visualiser vos données d'une manière facile à comprendre\", '  Appareils : Cette section affiche une liste de vos appareils', ' Les appareils sont des entités physiques  ou virtuelles qui collectent des données dans le monde réel', '  Flux de données : Cette section affiche une liste de vos flux de données', ' Les flux de données sont les  canaux par lesquels les données sont envoyées des appareils au ThingsBoard', '  Applications : Cette section affiche une liste de vos applications', ' Les applications sont des logiciels  que vous pouvez utiliser pour interagir avec vos données', \"  Événements : Cette section affiche une liste d'événements\", \" Les événements sont des notifications  envoyées par ThingsBoard lorsque quelque chose se produit, comme la connexion d'un appareil ou la  création d'un flux de données\", \"  La page d'accueil comprend également une barre de recherche que vous pouvez utiliser pour trouver  des appareils, des flux de données ou des applications spécifiques\", \" Vous pouvez également utiliser la  page d'accueil pour créer de nouveaux tableaux de bord, appareils, flux de données et applications\", \"  La page d'accueil de ThingsBoard est un outil puissant qui peut vous aider à gérer vos projets IoT\", ' Elle  offre un emplacement central où vous pouvez consulter vos données, vos appareils et vos  applications', \" La page d'accueil comprend également une variété d'outils que vous pouvez utiliser  pour interagir avec vos données\", \"  Voici quelques-unes des caractéristiques de la page d'accueil de ThingsBoard :  Tableaux de bord : Vous pouvez créer et gérer des tableaux de bord pour visualiser vos données\", '  Appareils : Vous pouvez gérer vos appareils, notamment les ajouter, les mettre à jour et les  supprimer', '  Flux de données : Vous pouvez gérer vos flux de données, notamment les ajouter, les mettre à jour  et les supprimer', '  Applications : Vous pouvez créer et gérer des applications pour interagir avec vos données', '  Événements : Vous pouvez afficher les événements qui ont été générés par ThingsBoard', '  Recherche : Vous pouvez rechercher des appareils, des flux de données ou des applications  spécifiques', \"  La page d'accueil de ThingsBoard est un outil puissant qui peut vous aider à gérer vos projets IoT\", \" Si  vous utilisez ThingsBoard, vous devriez vous familiariser avec la page d'accueil\", \" C'est un outil précieux  qui peut vous aider à tirer le meilleur parti de ThingsBoard\", '']\n",
            "['Login page  La page de connexion de ThingsBoard est la page que vous utilisez pour accéder à la plateforme IoT  de ThingsBoard', \" La page de connexion est divisée en deux sections :  *Nom d'utilisateur et mot de passe : Cette section est l'endroit où vous entrez votre nom  d'utilisateur et votre mot de passe\", '  *Se souvenir de moi : Cette case à cocher vous permet de rester connecté à ThingsBoard après avoir  fermé votre navigateur', '  Si vous n\\'avez pas de compte ThingsBoard, vous pouvez en créer un en cliquant sur le bouton  \"S\\'inscrire\"', \"  La page de connexion de ThingsBoard est une page simple, mais c'est une partie importante de la  plateforme ThingsBoard\", \" C'est la porte d'accès à vos données, appareils et applications\", \"  Alarmes page    Les alarmes de ThingsBoard sont utilisées pour avertir les utilisateurs lorsque quelque chose  d'inattendu se produit avec leurs appareils ou leurs données\", \" Les alarmes peuvent être déclenchées  par une variété de conditions, telles que la mise hors ligne d'un appareil, la lecture d'un capteur en  dehors d'une plage spécifiée ou la violation d'une règle\", '  Les alarmes de ThingsBoard sont un outil puissant qui peut vous aider à suivre vos projets IoT et à  prendre des mesures lorsque quelque chose ne va pas', \"  Voici quelques-unes des caractéristiques des alarmes ThingsBoard :  * Conditions de déclenchement : Les alarmes peuvent être déclenchées par une variété de  conditions, telles que la mise hors ligne d'un appareil, la lecture d'un capteur en dehors d'une plage  spécifiée, ou la violation d'une règle\", '  * Notifications : Les alarmes peuvent être utilisées pour notifier les utilisateurs par courriel, SMS ou  notification push', \"  * Actions : Les alarmes peuvent être utilisées pour déclencher des actions, telles que l'envoi d'un  message à un appareil, la mise à jour d'une base de données ou le lancement d'un flux de travail\", \"  * Historique : Les alarmes sont stockées dans l'historique de ThingsBoard, de sorte que vous pouvez  les consulter à tout moment\", \"  Device  La page ThingsBoard Devices est l'endroit où vous pouvez gérer vos appareils\", \" Vous pouvez ajouter et  supprimer des appareils, gérer les informations d'identification des appareils, obtenir l'ID de  l'appareil, attribuer des appareils à des clients, parcourir les attributs des appareils, parcourir la  télémétrie des appareils, parcourir les alarmes des appareils, parcourir les événements des appareils  et gérer les relations entre les appareils\", '']\n",
            "['Pour ajouter un appareil, vous pouvez cliquer sur l\\'icône \"+\" dans le coin supérieur droit du tableau,  puis sélectionner \"Ajouter un nouvel appareil\"', ' Vous devrez fournir un nom de dispositif et,  éventuellement, un type de dispositif', '  Une fois que vous avez ajouté un appareil, vous pouvez gérer ses informations d\\'identification en  cliquant sur l\\'onglet \"Informations d\\'identification\"', \" Vous pouvez visualiser le jeton d'accès et le  secret de l'appareil, ainsi que générer de nouveaux jetons\", \"  Pour parcourir les attributs, la télémétrie, les alarmes, les événements et les relations de l'appareil,  vous pouvez cliquer sur les onglets correspondants\", \" Ces onglets affichent une liste de toutes les  données collectées à partir de l'appareil\", '  La page ThingsBoard Devices est un outil puissant pour gérer vos appareils', \" Vous pouvez l'utiliser  pour assurer le suivi de vos appareils, consulter leurs données et gérer leurs informations  d'identification\", \"    Une chaîne de règles ThingsBoard est une séquence de nœuds de règles qui sont exécutés dans  l'ordre\", \" Chaque nœud de règle d'une chaîne de règles exécute une tâche spécifique, comme le  filtrage de données, la transformation de données ou le déclenchement d'une action\", '  Les chaînes de règles constituent un outil puissant pour le traitement des données provenant des  appareils IoT', ' Elles peuvent être utilisées pour :  * Valider les données : Les chaînes de règles peuvent être utilisées pour valider les données  provenant des appareils IoT', \" Cela permet de s'assurer que les données sont exactes et complètes\", '  * Transformer les données : Les chaînes de règles peuvent être utilisées pour transformer les  données provenant des dispositifs IdO', \" Cela permet de rendre les données plus utiles pour l'analyse  ou la visualisation\", \"  * Déclencher des actions : Les chaînes de règles peuvent être utilisées pour déclencher des actions  basées sur des données provenant d'appareils IoT\", \" Cela peut aider à automatiser des tâches ou à  informer les utilisateurs d'événements importants\", \"    Voici d'autres choses que vous pouvez faire avec les chaînes de règles de ThingsBoard :    * Exporter et importer des chaînes de règles : Vous pouvez exporter et importer des chaînes de  règles depuis et vers la plateforme ThingsBoard\", \" Cela peut être utile pour partager des chaînes de  règles avec d'autres utilisateurs ou pour sauvegarder vos chaînes de règles\", '  * Déboguer les chaînes de règles : Vous pouvez déboguer les chaînes de règles en activant le mode  débogage', \" Cela vous permettra de voir l'exécution de votre chaîne de règles étape par étape\", \"  * Planifier des chaînes de règles : Vous pouvez programmer l'exécution de chaînes de règles à des  moments ou à des intervalles spécifiques\", \" Cela peut être utile pour automatiser des tâches ou pour  traiter régulièrement des données provenant d'appareils IoT\", '']\n"
          ]
        }
      ]
    },
    {
      "cell_type": "code",
      "source": [
        "# Create a pandas dataframe\n",
        "df = pd.DataFrame(page_content, columns=['text'])\n",
        "\n",
        "# Preview the data to ensure it has loaded correctly\n",
        "print(df)"
      ],
      "metadata": {
        "colab": {
          "base_uri": "https://localhost:8080/"
        },
        "id": "c3RtOvCj0Vk8",
        "outputId": "f45a08db-eb0e-4d8f-a504-0e7354fabdf4"
      },
      "execution_count": null,
      "outputs": [
        {
          "output_type": "stream",
          "name": "stdout",
          "text": [
            "                                                                                                                                                                                                                                              text\n",
            "0                                                                                           Pour ajouter un appareil, vous pouvez cliquer sur l'icône \"+\" dans le coin supérieur droit du tableau,  puis sélectionner \"Ajouter un nouvel appareil\"\n",
            "1                                                                                                                                                              Vous devrez fournir un nom de dispositif et,  éventuellement, un type de dispositif\n",
            "2                                                                                         Une fois que vous avez ajouté un appareil, vous pouvez gérer ses informations d'identification en  cliquant sur l'onglet \"Informations d'identification\"\n",
            "3                                                                                                                                        Vous pouvez visualiser le jeton d'accès et le  secret de l'appareil, ainsi que générer de nouveaux jetons\n",
            "4                                                                                     Pour parcourir les attributs, la télémétrie, les alarmes, les événements et les relations de l'appareil,  vous pouvez cliquer sur les onglets correspondants\n",
            "5                                                                                                                                                         Ces onglets affichent une liste de toutes les  données collectées à partir de l'appareil\n",
            "6                                                                                                                                                                       La page ThingsBoard Devices est un outil puissant pour gérer vos appareils\n",
            "7                                                                                                            Vous pouvez l'utiliser  pour assurer le suivi de vos appareils, consulter leurs données et gérer leurs informations  d'identification\n",
            "8                                                                                                                                             Une chaîne de règles ThingsBoard est une séquence de nœuds de règles qui sont exécutés dans  l'ordre\n",
            "9                                                                           Chaque nœud de règle d'une chaîne de règles exécute une tâche spécifique, comme le  filtrage de données, la transformation de données ou le déclenchement d'une action\n",
            "10                                                                                                                                 Les chaînes de règles constituent un outil puissant pour le traitement des données provenant des  appareils IoT\n",
            "11                                                                                 Elles peuvent être utilisées pour :  * Valider les données : Les chaînes de règles peuvent être utilisées pour valider les données  provenant des appareils IoT\n",
            "12                                                                                                                                                                              Cela permet de s'assurer que les données sont exactes et complètes\n",
            "13                                                                                                            * Transformer les données : Les chaînes de règles peuvent être utilisées pour transformer les  données provenant des dispositifs IdO\n",
            "14                                                                                                                                                               Cela permet de rendre les données plus utiles pour l'analyse  ou la visualisation\n",
            "15                                                                                           * Déclencher des actions : Les chaînes de règles peuvent être utilisées pour déclencher des actions  basées sur des données provenant d'appareils IoT\n",
            "16                                                                                                                                                Cela peut aider à automatiser des tâches ou à  informer les utilisateurs d'événements importants\n",
            "17      Voici d'autres choses que vous pouvez faire avec les chaînes de règles de ThingsBoard :    * Exporter et importer des chaînes de règles : Vous pouvez exporter et importer des chaînes de  règles depuis et vers la plateforme ThingsBoard\n",
            "18                                                                                                                  Cela peut être utile pour partager des chaînes de  règles avec d'autres utilisateurs ou pour sauvegarder vos chaînes de règles\n",
            "19                                                                                                                                     * Déboguer les chaînes de règles : Vous pouvez déboguer les chaînes de règles en activant le mode  débogage\n",
            "20                                                                                                                                                               Cela vous permettra de voir l'exécution de votre chaîne de règles étape par étape\n",
            "21                                                                                                     * Planifier des chaînes de règles : Vous pouvez programmer l'exécution de chaînes de règles à des  moments ou à des intervalles spécifiques\n",
            "22                                                                                                                           Cela peut être utile pour automatiser des tâches ou pour  traiter régulièrement des données provenant d'appareils IoT\n",
            "23                                                                                                                                                                                                                                                \n"
          ]
        }
      ]
    },
    {
      "cell_type": "code",
      "source": [
        "# Get the embeddings\n",
        "embeds = co.embed(texts=list(df['text']),\n",
        "                  model=model_name,\n",
        "                  input_type=input_type_embed).embeddings"
      ],
      "metadata": {
        "id": "U58Y502-7WqZ"
      },
      "execution_count": null,
      "outputs": []
    },
    {
      "cell_type": "code",
      "source": [
        "# Check the dimensions of the embeddings\n",
        "embeds = np.array(embeds)\n",
        "embeds.shape"
      ],
      "metadata": {
        "colab": {
          "base_uri": "https://localhost:8080/"
        },
        "id": "LLDoP8OJ78ZA",
        "outputId": "fea38ae1-aac9-4729-a196-a60bfea979b5"
      },
      "execution_count": null,
      "outputs": [
        {
          "output_type": "execute_result",
          "data": {
            "text/plain": [
              "(24, 1024)"
            ]
          },
          "metadata": {},
          "execution_count": 57
        }
      ]
    },
    {
      "cell_type": "markdown",
      "source": [
        "# Search using an index and nearest neighbor search"
      ],
      "metadata": {
        "id": "7DOZ6Gu58Oaa"
      }
    },
    {
      "cell_type": "markdown",
      "source": [
        "Let's now use Annoy to build an index that stores the embeddings in a way that is optimized for fast search. This approach scales well to a large number of texts (other options include Faiss, ScaNN, and PyNNDescent).\n",
        "\n",
        "After building the index, we can use it to retrieve the nearest neighbors either of existing questions , or of new questions that we embed ."
      ],
      "metadata": {
        "id": "V5rY7OU78LPp"
      }
    },
    {
      "cell_type": "code",
      "source": [
        "# Create the search index, pass the size of embedding\n",
        "search_index = AnnoyIndex(embeds.shape[1], 'angular')\n",
        "# Add all the vectors to the search index\n",
        "for i in range(len(embeds)):\n",
        "    search_index.add_item(i, embeds[i])\n",
        "\n",
        "search_index.build(10) # 10 trees\n",
        "search_index.save('test.ann')"
      ],
      "metadata": {
        "colab": {
          "base_uri": "https://localhost:8080/"
        },
        "id": "-gQ4Iat08XdX",
        "outputId": "8fd8065b-5bfb-4380-cb1e-bfe8ee2a6462"
      },
      "execution_count": null,
      "outputs": [
        {
          "output_type": "execute_result",
          "data": {
            "text/plain": [
              "True"
            ]
          },
          "metadata": {},
          "execution_count": 58
        }
      ]
    },
    {
      "cell_type": "markdown",
      "source": [
        "# Find the neighbors of an example from the dataset"
      ],
      "metadata": {
        "id": "6HY3aFxc8iUU"
      }
    },
    {
      "cell_type": "markdown",
      "source": [
        "If we're only interested in measuring the distance between the questions in the dataset (no outside queries), a simple way is to calculate the distance between every pair of embeddings we have."
      ],
      "metadata": {
        "id": "DZmHJc4F8mKc"
      }
    },
    {
      "cell_type": "code",
      "source": [
        "# Choose an example (we'll retrieve others similar to it)\n",
        "example_id = 6\n",
        "\n",
        "# Retrieve nearest neighbors\n",
        "similar_item_ids = search_index.get_nns_by_item(example_id,10,\n",
        "                                                include_distances=True)\n",
        "# Format and print the text and distances\n",
        "results = pd.DataFrame(data={'texts': df.iloc[similar_item_ids[0]]['text'],\n",
        "                             'distance': similar_item_ids[1]}).drop(example_id)\n",
        "\n",
        "print(f\"Question:'{df.iloc[example_id]['text']}'\\nNearest neighbors:\")\n",
        "results"
      ],
      "metadata": {
        "colab": {
          "base_uri": "https://localhost:8080/",
          "height": 523
        },
        "id": "jz_8Jg6O8fN-",
        "outputId": "58b3f249-7d52-498f-8248-703c66bb1103"
      },
      "execution_count": null,
      "outputs": [
        {
          "output_type": "stream",
          "name": "stdout",
          "text": [
            "Question:'  La page ThingsBoard Devices est un outil puissant pour gérer vos appareils'\n",
            "Nearest neighbors:\n"
          ]
        },
        {
          "output_type": "execute_result",
          "data": {
            "text/plain": [
              "                                                                                                                                                                                                                                             texts  \\\n",
              "10                                                                                                                                 Les chaînes de règles constituent un outil puissant pour le traitement des données provenant des  appareils IoT   \n",
              "8                                                                                                                                             Une chaîne de règles ThingsBoard est une séquence de nœuds de règles qui sont exécutés dans  l'ordre   \n",
              "7                                                                                                            Vous pouvez l'utiliser  pour assurer le suivi de vos appareils, consulter leurs données et gérer leurs informations  d'identification   \n",
              "2                                                                                         Une fois que vous avez ajouté un appareil, vous pouvez gérer ses informations d'identification en  cliquant sur l'onglet \"Informations d'identification\"   \n",
              "0                                                                                           Pour ajouter un appareil, vous pouvez cliquer sur l'icône \"+\" dans le coin supérieur droit du tableau,  puis sélectionner \"Ajouter un nouvel appareil\"   \n",
              "5                                                                                                                                                         Ces onglets affichent une liste de toutes les  données collectées à partir de l'appareil   \n",
              "4                                                                                     Pour parcourir les attributs, la télémétrie, les alarmes, les événements et les relations de l'appareil,  vous pouvez cliquer sur les onglets correspondants   \n",
              "22                                                                                                                           Cela peut être utile pour automatiser des tâches ou pour  traiter régulièrement des données provenant d'appareils IoT   \n",
              "17      Voici d'autres choses que vous pouvez faire avec les chaînes de règles de ThingsBoard :    * Exporter et importer des chaînes de règles : Vous pouvez exporter et importer des chaînes de  règles depuis et vers la plateforme ThingsBoard   \n",
              "\n",
              "    distance  \n",
              "10  0.771786  \n",
              "8   0.778087  \n",
              "7   0.811441  \n",
              "2   0.837800  \n",
              "0   0.840088  \n",
              "5   0.840252  \n",
              "4   0.842978  \n",
              "22  0.851465  \n",
              "17  0.902468  "
            ],
            "text/html": [
              "\n",
              "  <div id=\"df-fa0c2ccb-bbc6-4876-b0b7-bd6c0a2a11de\" class=\"colab-df-container\">\n",
              "    <div>\n",
              "<style scoped>\n",
              "    .dataframe tbody tr th:only-of-type {\n",
              "        vertical-align: middle;\n",
              "    }\n",
              "\n",
              "    .dataframe tbody tr th {\n",
              "        vertical-align: top;\n",
              "    }\n",
              "\n",
              "    .dataframe thead th {\n",
              "        text-align: right;\n",
              "    }\n",
              "</style>\n",
              "<table border=\"1\" class=\"dataframe\">\n",
              "  <thead>\n",
              "    <tr style=\"text-align: right;\">\n",
              "      <th></th>\n",
              "      <th>texts</th>\n",
              "      <th>distance</th>\n",
              "    </tr>\n",
              "  </thead>\n",
              "  <tbody>\n",
              "    <tr>\n",
              "      <th>10</th>\n",
              "      <td>Les chaînes de règles constituent un outil puissant pour le traitement des données provenant des  appareils IoT</td>\n",
              "      <td>0.771786</td>\n",
              "    </tr>\n",
              "    <tr>\n",
              "      <th>8</th>\n",
              "      <td>Une chaîne de règles ThingsBoard est une séquence de nœuds de règles qui sont exécutés dans  l'ordre</td>\n",
              "      <td>0.778087</td>\n",
              "    </tr>\n",
              "    <tr>\n",
              "      <th>7</th>\n",
              "      <td>Vous pouvez l'utiliser  pour assurer le suivi de vos appareils, consulter leurs données et gérer leurs informations  d'identification</td>\n",
              "      <td>0.811441</td>\n",
              "    </tr>\n",
              "    <tr>\n",
              "      <th>2</th>\n",
              "      <td>Une fois que vous avez ajouté un appareil, vous pouvez gérer ses informations d'identification en  cliquant sur l'onglet \"Informations d'identification\"</td>\n",
              "      <td>0.837800</td>\n",
              "    </tr>\n",
              "    <tr>\n",
              "      <th>0</th>\n",
              "      <td>Pour ajouter un appareil, vous pouvez cliquer sur l'icône \"+\" dans le coin supérieur droit du tableau,  puis sélectionner \"Ajouter un nouvel appareil\"</td>\n",
              "      <td>0.840088</td>\n",
              "    </tr>\n",
              "    <tr>\n",
              "      <th>5</th>\n",
              "      <td>Ces onglets affichent une liste de toutes les  données collectées à partir de l'appareil</td>\n",
              "      <td>0.840252</td>\n",
              "    </tr>\n",
              "    <tr>\n",
              "      <th>4</th>\n",
              "      <td>Pour parcourir les attributs, la télémétrie, les alarmes, les événements et les relations de l'appareil,  vous pouvez cliquer sur les onglets correspondants</td>\n",
              "      <td>0.842978</td>\n",
              "    </tr>\n",
              "    <tr>\n",
              "      <th>22</th>\n",
              "      <td>Cela peut être utile pour automatiser des tâches ou pour  traiter régulièrement des données provenant d'appareils IoT</td>\n",
              "      <td>0.851465</td>\n",
              "    </tr>\n",
              "    <tr>\n",
              "      <th>17</th>\n",
              "      <td>Voici d'autres choses que vous pouvez faire avec les chaînes de règles de ThingsBoard :    * Exporter et importer des chaînes de règles : Vous pouvez exporter et importer des chaînes de  règles depuis et vers la plateforme ThingsBoard</td>\n",
              "      <td>0.902468</td>\n",
              "    </tr>\n",
              "  </tbody>\n",
              "</table>\n",
              "</div>\n",
              "    <div class=\"colab-df-buttons\">\n",
              "\n",
              "  <div class=\"colab-df-container\">\n",
              "    <button class=\"colab-df-convert\" onclick=\"convertToInteractive('df-fa0c2ccb-bbc6-4876-b0b7-bd6c0a2a11de')\"\n",
              "            title=\"Convert this dataframe to an interactive table.\"\n",
              "            style=\"display:none;\">\n",
              "\n",
              "  <svg xmlns=\"http://www.w3.org/2000/svg\" height=\"24px\" viewBox=\"0 -960 960 960\">\n",
              "    <path d=\"M120-120v-720h720v720H120Zm60-500h600v-160H180v160Zm220 220h160v-160H400v160Zm0 220h160v-160H400v160ZM180-400h160v-160H180v160Zm440 0h160v-160H620v160ZM180-180h160v-160H180v160Zm440 0h160v-160H620v160Z\"/>\n",
              "  </svg>\n",
              "    </button>\n",
              "\n",
              "  <style>\n",
              "    .colab-df-container {\n",
              "      display:flex;\n",
              "      gap: 12px;\n",
              "    }\n",
              "\n",
              "    .colab-df-convert {\n",
              "      background-color: #E8F0FE;\n",
              "      border: none;\n",
              "      border-radius: 50%;\n",
              "      cursor: pointer;\n",
              "      display: none;\n",
              "      fill: #1967D2;\n",
              "      height: 32px;\n",
              "      padding: 0 0 0 0;\n",
              "      width: 32px;\n",
              "    }\n",
              "\n",
              "    .colab-df-convert:hover {\n",
              "      background-color: #E2EBFA;\n",
              "      box-shadow: 0px 1px 2px rgba(60, 64, 67, 0.3), 0px 1px 3px 1px rgba(60, 64, 67, 0.15);\n",
              "      fill: #174EA6;\n",
              "    }\n",
              "\n",
              "    .colab-df-buttons div {\n",
              "      margin-bottom: 4px;\n",
              "    }\n",
              "\n",
              "    [theme=dark] .colab-df-convert {\n",
              "      background-color: #3B4455;\n",
              "      fill: #D2E3FC;\n",
              "    }\n",
              "\n",
              "    [theme=dark] .colab-df-convert:hover {\n",
              "      background-color: #434B5C;\n",
              "      box-shadow: 0px 1px 3px 1px rgba(0, 0, 0, 0.15);\n",
              "      filter: drop-shadow(0px 1px 2px rgba(0, 0, 0, 0.3));\n",
              "      fill: #FFFFFF;\n",
              "    }\n",
              "  </style>\n",
              "\n",
              "    <script>\n",
              "      const buttonEl =\n",
              "        document.querySelector('#df-fa0c2ccb-bbc6-4876-b0b7-bd6c0a2a11de button.colab-df-convert');\n",
              "      buttonEl.style.display =\n",
              "        google.colab.kernel.accessAllowed ? 'block' : 'none';\n",
              "\n",
              "      async function convertToInteractive(key) {\n",
              "        const element = document.querySelector('#df-fa0c2ccb-bbc6-4876-b0b7-bd6c0a2a11de');\n",
              "        const dataTable =\n",
              "          await google.colab.kernel.invokeFunction('convertToInteractive',\n",
              "                                                    [key], {});\n",
              "        if (!dataTable) return;\n",
              "\n",
              "        const docLinkHtml = 'Like what you see? Visit the ' +\n",
              "          '<a target=\"_blank\" href=https://colab.research.google.com/notebooks/data_table.ipynb>data table notebook</a>'\n",
              "          + ' to learn more about interactive tables.';\n",
              "        element.innerHTML = '';\n",
              "        dataTable['output_type'] = 'display_data';\n",
              "        await google.colab.output.renderOutput(dataTable, element);\n",
              "        const docLink = document.createElement('div');\n",
              "        docLink.innerHTML = docLinkHtml;\n",
              "        element.appendChild(docLink);\n",
              "      }\n",
              "    </script>\n",
              "  </div>\n",
              "\n",
              "\n",
              "<div id=\"df-d08dcddd-2587-4c40-9efc-b49be72890a9\">\n",
              "  <button class=\"colab-df-quickchart\" onclick=\"quickchart('df-d08dcddd-2587-4c40-9efc-b49be72890a9')\"\n",
              "            title=\"Suggest charts\"\n",
              "            style=\"display:none;\">\n",
              "\n",
              "<svg xmlns=\"http://www.w3.org/2000/svg\" height=\"24px\"viewBox=\"0 0 24 24\"\n",
              "     width=\"24px\">\n",
              "    <g>\n",
              "        <path d=\"M19 3H5c-1.1 0-2 .9-2 2v14c0 1.1.9 2 2 2h14c1.1 0 2-.9 2-2V5c0-1.1-.9-2-2-2zM9 17H7v-7h2v7zm4 0h-2V7h2v10zm4 0h-2v-4h2v4z\"/>\n",
              "    </g>\n",
              "</svg>\n",
              "  </button>\n",
              "\n",
              "<style>\n",
              "  .colab-df-quickchart {\n",
              "      --bg-color: #E8F0FE;\n",
              "      --fill-color: #1967D2;\n",
              "      --hover-bg-color: #E2EBFA;\n",
              "      --hover-fill-color: #174EA6;\n",
              "      --disabled-fill-color: #AAA;\n",
              "      --disabled-bg-color: #DDD;\n",
              "  }\n",
              "\n",
              "  [theme=dark] .colab-df-quickchart {\n",
              "      --bg-color: #3B4455;\n",
              "      --fill-color: #D2E3FC;\n",
              "      --hover-bg-color: #434B5C;\n",
              "      --hover-fill-color: #FFFFFF;\n",
              "      --disabled-bg-color: #3B4455;\n",
              "      --disabled-fill-color: #666;\n",
              "  }\n",
              "\n",
              "  .colab-df-quickchart {\n",
              "    background-color: var(--bg-color);\n",
              "    border: none;\n",
              "    border-radius: 50%;\n",
              "    cursor: pointer;\n",
              "    display: none;\n",
              "    fill: var(--fill-color);\n",
              "    height: 32px;\n",
              "    padding: 0;\n",
              "    width: 32px;\n",
              "  }\n",
              "\n",
              "  .colab-df-quickchart:hover {\n",
              "    background-color: var(--hover-bg-color);\n",
              "    box-shadow: 0 1px 2px rgba(60, 64, 67, 0.3), 0 1px 3px 1px rgba(60, 64, 67, 0.15);\n",
              "    fill: var(--button-hover-fill-color);\n",
              "  }\n",
              "\n",
              "  .colab-df-quickchart-complete:disabled,\n",
              "  .colab-df-quickchart-complete:disabled:hover {\n",
              "    background-color: var(--disabled-bg-color);\n",
              "    fill: var(--disabled-fill-color);\n",
              "    box-shadow: none;\n",
              "  }\n",
              "\n",
              "  .colab-df-spinner {\n",
              "    border: 2px solid var(--fill-color);\n",
              "    border-color: transparent;\n",
              "    border-bottom-color: var(--fill-color);\n",
              "    animation:\n",
              "      spin 1s steps(1) infinite;\n",
              "  }\n",
              "\n",
              "  @keyframes spin {\n",
              "    0% {\n",
              "      border-color: transparent;\n",
              "      border-bottom-color: var(--fill-color);\n",
              "      border-left-color: var(--fill-color);\n",
              "    }\n",
              "    20% {\n",
              "      border-color: transparent;\n",
              "      border-left-color: var(--fill-color);\n",
              "      border-top-color: var(--fill-color);\n",
              "    }\n",
              "    30% {\n",
              "      border-color: transparent;\n",
              "      border-left-color: var(--fill-color);\n",
              "      border-top-color: var(--fill-color);\n",
              "      border-right-color: var(--fill-color);\n",
              "    }\n",
              "    40% {\n",
              "      border-color: transparent;\n",
              "      border-right-color: var(--fill-color);\n",
              "      border-top-color: var(--fill-color);\n",
              "    }\n",
              "    60% {\n",
              "      border-color: transparent;\n",
              "      border-right-color: var(--fill-color);\n",
              "    }\n",
              "    80% {\n",
              "      border-color: transparent;\n",
              "      border-right-color: var(--fill-color);\n",
              "      border-bottom-color: var(--fill-color);\n",
              "    }\n",
              "    90% {\n",
              "      border-color: transparent;\n",
              "      border-bottom-color: var(--fill-color);\n",
              "    }\n",
              "  }\n",
              "</style>\n",
              "\n",
              "  <script>\n",
              "    async function quickchart(key) {\n",
              "      const quickchartButtonEl =\n",
              "        document.querySelector('#' + key + ' button');\n",
              "      quickchartButtonEl.disabled = true;  // To prevent multiple clicks.\n",
              "      quickchartButtonEl.classList.add('colab-df-spinner');\n",
              "      try {\n",
              "        const charts = await google.colab.kernel.invokeFunction(\n",
              "            'suggestCharts', [key], {});\n",
              "      } catch (error) {\n",
              "        console.error('Error during call to suggestCharts:', error);\n",
              "      }\n",
              "      quickchartButtonEl.classList.remove('colab-df-spinner');\n",
              "      quickchartButtonEl.classList.add('colab-df-quickchart-complete');\n",
              "    }\n",
              "    (() => {\n",
              "      let quickchartButtonEl =\n",
              "        document.querySelector('#df-d08dcddd-2587-4c40-9efc-b49be72890a9 button');\n",
              "      quickchartButtonEl.style.display =\n",
              "        google.colab.kernel.accessAllowed ? 'block' : 'none';\n",
              "    })();\n",
              "  </script>\n",
              "</div>\n",
              "\n",
              "  <div id=\"id_fe512b5d-7db1-4cca-87f3-88258c3ad83f\">\n",
              "    <style>\n",
              "      .colab-df-generate {\n",
              "        background-color: #E8F0FE;\n",
              "        border: none;\n",
              "        border-radius: 50%;\n",
              "        cursor: pointer;\n",
              "        display: none;\n",
              "        fill: #1967D2;\n",
              "        height: 32px;\n",
              "        padding: 0 0 0 0;\n",
              "        width: 32px;\n",
              "      }\n",
              "\n",
              "      .colab-df-generate:hover {\n",
              "        background-color: #E2EBFA;\n",
              "        box-shadow: 0px 1px 2px rgba(60, 64, 67, 0.3), 0px 1px 3px 1px rgba(60, 64, 67, 0.15);\n",
              "        fill: #174EA6;\n",
              "      }\n",
              "\n",
              "      [theme=dark] .colab-df-generate {\n",
              "        background-color: #3B4455;\n",
              "        fill: #D2E3FC;\n",
              "      }\n",
              "\n",
              "      [theme=dark] .colab-df-generate:hover {\n",
              "        background-color: #434B5C;\n",
              "        box-shadow: 0px 1px 3px 1px rgba(0, 0, 0, 0.15);\n",
              "        filter: drop-shadow(0px 1px 2px rgba(0, 0, 0, 0.3));\n",
              "        fill: #FFFFFF;\n",
              "      }\n",
              "    </style>\n",
              "    <button class=\"colab-df-generate\" onclick=\"generateWithVariable('results')\"\n",
              "            title=\"Generate code using this dataframe.\"\n",
              "            style=\"display:none;\">\n",
              "\n",
              "  <svg xmlns=\"http://www.w3.org/2000/svg\" height=\"24px\"viewBox=\"0 0 24 24\"\n",
              "       width=\"24px\">\n",
              "    <path d=\"M7,19H8.4L18.45,9,17,7.55,7,17.6ZM5,21V16.75L18.45,3.32a2,2,0,0,1,2.83,0l1.4,1.43a1.91,1.91,0,0,1,.58,1.4,1.91,1.91,0,0,1-.58,1.4L9.25,21ZM18.45,9,17,7.55Zm-12,3A5.31,5.31,0,0,0,4.9,8.1,5.31,5.31,0,0,0,1,6.5,5.31,5.31,0,0,0,4.9,4.9,5.31,5.31,0,0,0,6.5,1,5.31,5.31,0,0,0,8.1,4.9,5.31,5.31,0,0,0,12,6.5,5.46,5.46,0,0,0,6.5,12Z\"/>\n",
              "  </svg>\n",
              "    </button>\n",
              "    <script>\n",
              "      (() => {\n",
              "      const buttonEl =\n",
              "        document.querySelector('#id_fe512b5d-7db1-4cca-87f3-88258c3ad83f button.colab-df-generate');\n",
              "      buttonEl.style.display =\n",
              "        google.colab.kernel.accessAllowed ? 'block' : 'none';\n",
              "\n",
              "      buttonEl.onclick = () => {\n",
              "        google.colab.notebook.generateWithVariable('results');\n",
              "      }\n",
              "      })();\n",
              "    </script>\n",
              "  </div>\n",
              "\n",
              "    </div>\n",
              "  </div>\n"
            ],
            "application/vnd.google.colaboratory.intrinsic+json": {
              "type": "dataframe",
              "variable_name": "results",
              "summary": "{\n  \"name\": \"results\",\n  \"rows\": 9,\n  \"fields\": [\n    {\n      \"column\": \"texts\",\n      \"properties\": {\n        \"dtype\": \"string\",\n        \"num_unique_values\": 9,\n        \"samples\": [\n          \" Cela peut \\u00eatre utile pour automatiser des t\\u00e2ches ou pour  traiter r\\u00e9guli\\u00e8rement des donn\\u00e9es provenant d'appareils IoT\",\n          \"    Une cha\\u00eene de r\\u00e8gles ThingsBoard est une s\\u00e9quence de n\\u0153uds de r\\u00e8gles qui sont ex\\u00e9cut\\u00e9s dans  l'ordre\",\n          \" Ces onglets affichent une liste de toutes les  donn\\u00e9es collect\\u00e9es \\u00e0 partir de l'appareil\"\n        ],\n        \"semantic_type\": \"\",\n        \"description\": \"\"\n      }\n    },\n    {\n      \"column\": \"distance\",\n      \"properties\": {\n        \"dtype\": \"number\",\n        \"std\": 0.03964233812707764,\n        \"min\": 0.7717864513397217,\n        \"max\": 0.9024677872657776,\n        \"num_unique_values\": 9,\n        \"samples\": [\n          0.8514647483825684,\n          0.7780874967575073,\n          0.8402520418167114\n        ],\n        \"semantic_type\": \"\",\n        \"description\": \"\"\n      }\n    }\n  ]\n}"
            }
          },
          "metadata": {},
          "execution_count": 59
        }
      ]
    },
    {
      "cell_type": "markdown",
      "source": [
        "# Find the neighbors of a user query"
      ],
      "metadata": {
        "id": "p1od-XBM9Efb"
      }
    },
    {
      "cell_type": "markdown",
      "source": [
        "We're not limited to searching using existing items. If we get a query, we can embed it and find its nearest neighbors from the dataset."
      ],
      "metadata": {
        "id": "Eu-P9DEp9IFh"
      }
    },
    {
      "cell_type": "code",
      "source": [
        "query = \"Comment les chaînes de règles peuvent être utilisées pour déclencher des actions?\"\n",
        "input_type_query = \"search_query\"\n",
        "\n",
        "# Get the query's embedding\n",
        "query_embed = co.embed(texts=[query],\n",
        "                  model=model_name,\n",
        "                  input_type=input_type_query).embeddings\n",
        "\n",
        "# Retrieve the nearest neighbors\n",
        "similar_item_ids = search_index.get_nns_by_vector(query_embed[0],10,\n",
        "                                                include_distances=True)\n",
        "# Format the results\n",
        "query_results = pd.DataFrame(data={'texts': df.iloc[similar_item_ids[0]]['text'],\n",
        "                             'distance': similar_item_ids[1]})\n",
        "\n",
        "\n",
        "print(f\"Query:'{query}'\\nNearest neighbors:\")\n",
        "print(query_results) # NOTE: Your results might look slightly different to ours."
      ],
      "metadata": {
        "colab": {
          "base_uri": "https://localhost:8080/"
        },
        "id": "Vuz0Rk0b9EIy",
        "outputId": "3e65aa4e-8b9b-46c6-f937-cbbaae1ad6ab"
      },
      "execution_count": null,
      "outputs": [
        {
          "output_type": "stream",
          "name": "stdout",
          "text": [
            "Query:'Comment les chaînes de règles peuvent être utilisées pour déclencher des actions?'\n",
            "Nearest neighbors:\n",
            "                                                                                                                                                                                                                                             texts  \\\n",
            "15                                                                                           * Déclencher des actions : Les chaînes de règles peuvent être utilisées pour déclencher des actions  basées sur des données provenant d'appareils IoT   \n",
            "9                                                                           Chaque nœud de règle d'une chaîne de règles exécute une tâche spécifique, comme le  filtrage de données, la transformation de données ou le déclenchement d'une action   \n",
            "11                                                                                 Elles peuvent être utilisées pour :  * Valider les données : Les chaînes de règles peuvent être utilisées pour valider les données  provenant des appareils IoT   \n",
            "21                                                                                                     * Planifier des chaînes de règles : Vous pouvez programmer l'exécution de chaînes de règles à des  moments ou à des intervalles spécifiques   \n",
            "13                                                                                                            * Transformer les données : Les chaînes de règles peuvent être utilisées pour transformer les  données provenant des dispositifs IdO   \n",
            "10                                                                                                                                 Les chaînes de règles constituent un outil puissant pour le traitement des données provenant des  appareils IoT   \n",
            "8                                                                                                                                             Une chaîne de règles ThingsBoard est une séquence de nœuds de règles qui sont exécutés dans  l'ordre   \n",
            "18                                                                                                                  Cela peut être utile pour partager des chaînes de  règles avec d'autres utilisateurs ou pour sauvegarder vos chaînes de règles   \n",
            "17      Voici d'autres choses que vous pouvez faire avec les chaînes de règles de ThingsBoard :    * Exporter et importer des chaînes de règles : Vous pouvez exporter et importer des chaînes de  règles depuis et vers la plateforme ThingsBoard   \n",
            "20                                                                                                                                                               Cela vous permettra de voir l'exécution de votre chaîne de règles étape par étape   \n",
            "\n",
            "    distance  \n",
            "15  0.690802  \n",
            "9   0.820220  \n",
            "11  0.839317  \n",
            "21  0.877784  \n",
            "13  0.907715  \n",
            "10  0.907766  \n",
            "8   0.932627  \n",
            "18  0.934666  \n",
            "17  0.936117  \n",
            "20  0.942881  \n"
          ]
        }
      ]
    },
    {
      "cell_type": "code",
      "source": [
        "#@title Plot the archive {display-mode: \"form\"}\n",
        "\n",
        "# UMAP reduces the dimensions from 1024 to 2 dimensions that we can plot\n",
        "reducer = umap.UMAP(n_neighbors=20)\n",
        "umap_embeds = reducer.fit_transform(embeds)\n",
        "# Prepare the data to plot and interactive visualization\n",
        "# using Altair\n",
        "df_explore = pd.DataFrame(data={'text': df['text']})\n",
        "df_explore['x'] = umap_embeds[:,0]\n",
        "df_explore['y'] = umap_embeds[:,1]\n",
        "\n",
        "# Plot\n",
        "chart = alt.Chart(df_explore).mark_circle(size=60).encode(\n",
        "    x=#'x',\n",
        "    alt.X('x',\n",
        "        scale=alt.Scale(zero=False)\n",
        "    ),\n",
        "    y=\n",
        "    alt.Y('y',\n",
        "        scale=alt.Scale(zero=False)\n",
        "    ),\n",
        "    tooltip=['text']\n",
        ").properties(\n",
        "    width=700,\n",
        "    height=400\n",
        ")\n",
        "chart.interactive()"
      ],
      "metadata": {
        "colab": {
          "base_uri": "https://localhost:8080/",
          "height": 488
        },
        "id": "VHW8XpGP_RTl",
        "outputId": "e5d3b2ea-e4b3-4656-acb5-ff6f5c6d4e68"
      },
      "execution_count": null,
      "outputs": [
        {
          "output_type": "execute_result",
          "data": {
            "text/html": [
              "\n",
              "<div id=\"altair-viz-351810f06fb146d39b421002e73ab439\"></div>\n",
              "<script type=\"text/javascript\">\n",
              "  var VEGA_DEBUG = (typeof VEGA_DEBUG == \"undefined\") ? {} : VEGA_DEBUG;\n",
              "  (function(spec, embedOpt){\n",
              "    let outputDiv = document.currentScript.previousElementSibling;\n",
              "    if (outputDiv.id !== \"altair-viz-351810f06fb146d39b421002e73ab439\") {\n",
              "      outputDiv = document.getElementById(\"altair-viz-351810f06fb146d39b421002e73ab439\");\n",
              "    }\n",
              "    const paths = {\n",
              "      \"vega\": \"https://cdn.jsdelivr.net/npm//vega@5?noext\",\n",
              "      \"vega-lib\": \"https://cdn.jsdelivr.net/npm//vega-lib?noext\",\n",
              "      \"vega-lite\": \"https://cdn.jsdelivr.net/npm//vega-lite@4.17.0?noext\",\n",
              "      \"vega-embed\": \"https://cdn.jsdelivr.net/npm//vega-embed@6?noext\",\n",
              "    };\n",
              "\n",
              "    function maybeLoadScript(lib, version) {\n",
              "      var key = `${lib.replace(\"-\", \"\")}_version`;\n",
              "      return (VEGA_DEBUG[key] == version) ?\n",
              "        Promise.resolve(paths[lib]) :\n",
              "        new Promise(function(resolve, reject) {\n",
              "          var s = document.createElement('script');\n",
              "          document.getElementsByTagName(\"head\")[0].appendChild(s);\n",
              "          s.async = true;\n",
              "          s.onload = () => {\n",
              "            VEGA_DEBUG[key] = version;\n",
              "            return resolve(paths[lib]);\n",
              "          };\n",
              "          s.onerror = () => reject(`Error loading script: ${paths[lib]}`);\n",
              "          s.src = paths[lib];\n",
              "        });\n",
              "    }\n",
              "\n",
              "    function showError(err) {\n",
              "      outputDiv.innerHTML = `<div class=\"error\" style=\"color:red;\">${err}</div>`;\n",
              "      throw err;\n",
              "    }\n",
              "\n",
              "    function displayChart(vegaEmbed) {\n",
              "      vegaEmbed(outputDiv, spec, embedOpt)\n",
              "        .catch(err => showError(`Javascript Error: ${err.message}<br>This usually means there's a typo in your chart specification. See the javascript console for the full traceback.`));\n",
              "    }\n",
              "\n",
              "    if(typeof define === \"function\" && define.amd) {\n",
              "      requirejs.config({paths});\n",
              "      require([\"vega-embed\"], displayChart, err => showError(`Error loading script: ${err.message}`));\n",
              "    } else {\n",
              "      maybeLoadScript(\"vega\", \"5\")\n",
              "        .then(() => maybeLoadScript(\"vega-lite\", \"4.17.0\"))\n",
              "        .then(() => maybeLoadScript(\"vega-embed\", \"6\"))\n",
              "        .catch(showError)\n",
              "        .then(() => displayChart(vegaEmbed));\n",
              "    }\n",
              "  })({\"config\": {\"view\": {\"continuousWidth\": 400, \"continuousHeight\": 300}}, \"data\": {\"name\": \"data-cbc12aabb03170d0b443ae1e90fb1cf0\"}, \"mark\": {\"type\": \"circle\", \"size\": 60}, \"encoding\": {\"tooltip\": [{\"field\": \"text\", \"type\": \"nominal\"}], \"x\": {\"field\": \"x\", \"scale\": {\"zero\": false}, \"type\": \"quantitative\"}, \"y\": {\"field\": \"y\", \"scale\": {\"zero\": false}, \"type\": \"quantitative\"}}, \"height\": 400, \"selection\": {\"selector001\": {\"type\": \"interval\", \"bind\": \"scales\", \"encodings\": [\"x\", \"y\"]}}, \"width\": 700, \"$schema\": \"https://vega.github.io/schema/vega-lite/v4.17.0.json\", \"datasets\": {\"data-cbc12aabb03170d0b443ae1e90fb1cf0\": [{\"text\": \"Pour ajouter un appareil, vous pouvez cliquer sur l'ic\\u00f4ne \\\"+\\\" dans le coin sup\\u00e9rieur droit du tableau,  puis s\\u00e9lectionner \\\"Ajouter un nouvel appareil\\\"\", \"x\": 10.334510803222656, \"y\": 11.785452842712402}, {\"text\": \" Vous devrez fournir un nom de dispositif et,  \\u00e9ventuellement, un type de dispositif\", \"x\": 10.694493293762207, \"y\": 11.541838645935059}, {\"text\": \"  Une fois que vous avez ajout\\u00e9 un appareil, vous pouvez g\\u00e9rer ses informations d'identification en  cliquant sur l'onglet \\\"Informations d'identification\\\"\", \"x\": 9.966909408569336, \"y\": 11.36349105834961}, {\"text\": \" Vous pouvez visualiser le jeton d'acc\\u00e8s et le  secret de l'appareil, ainsi que g\\u00e9n\\u00e9rer de nouveaux jetons\", \"x\": 10.269062995910645, \"y\": 10.970087051391602}, {\"text\": \"  Pour parcourir les attributs, la t\\u00e9l\\u00e9m\\u00e9trie, les alarmes, les \\u00e9v\\u00e9nements et les relations de l'appareil,  vous pouvez cliquer sur les onglets correspondants\", \"x\": 9.438414573669434, \"y\": 10.5237398147583}, {\"text\": \" Ces onglets affichent une liste de toutes les  donn\\u00e9es collect\\u00e9es \\u00e0 partir de l'appareil\", \"x\": 9.27645206451416, \"y\": 11.141646385192871}, {\"text\": \"  La page ThingsBoard Devices est un outil puissant pour g\\u00e9rer vos appareils\", \"x\": 9.838081359863281, \"y\": 9.671138763427734}, {\"text\": \" Vous pouvez l'utiliser  pour assurer le suivi de vos appareils, consulter leurs donn\\u00e9es et g\\u00e9rer leurs informations  d'identification\", \"x\": 9.819993019104004, \"y\": 10.70105266571045}, {\"text\": \"    Une cha\\u00eene de r\\u00e8gles ThingsBoard est une s\\u00e9quence de n\\u0153uds de r\\u00e8gles qui sont ex\\u00e9cut\\u00e9s dans  l'ordre\", \"x\": 10.324225425720215, \"y\": 9.128621101379395}, {\"text\": \" Chaque n\\u0153ud de r\\u00e8gle d'une cha\\u00eene de r\\u00e8gles ex\\u00e9cute une t\\u00e2che sp\\u00e9cifique, comme le  filtrage de donn\\u00e9es, la transformation de donn\\u00e9es ou le d\\u00e9clenchement d'une action\", \"x\": 11.60975170135498, \"y\": 8.708145141601562}, {\"text\": \"  Les cha\\u00eenes de r\\u00e8gles constituent un outil puissant pour le traitement des donn\\u00e9es provenant des  appareils IoT\", \"x\": 10.769979476928711, \"y\": 9.710467338562012}, {\"text\": \" Elles peuvent \\u00eatre utilis\\u00e9es pour :  * Valider les donn\\u00e9es : Les cha\\u00eenes de r\\u00e8gles peuvent \\u00eatre utilis\\u00e9es pour valider les donn\\u00e9es  provenant des appareils IoT\", \"x\": 11.288742065429688, \"y\": 9.00749683380127}, {\"text\": \" Cela permet de s'assurer que les donn\\u00e9es sont exactes et compl\\u00e8tes\", \"x\": 9.527663230895996, \"y\": 11.634805679321289}, {\"text\": \"  * Transformer les donn\\u00e9es : Les cha\\u00eenes de r\\u00e8gles peuvent \\u00eatre utilis\\u00e9es pour transformer les  donn\\u00e9es provenant des dispositifs IdO\", \"x\": 11.911114692687988, \"y\": 9.114021301269531}, {\"text\": \" Cela permet de rendre les donn\\u00e9es plus utiles pour l'analyse  ou la visualisation\", \"x\": 10.75300121307373, \"y\": 10.744338989257812}, {\"text\": \"  * D\\u00e9clencher des actions : Les cha\\u00eenes de r\\u00e8gles peuvent \\u00eatre utilis\\u00e9es pour d\\u00e9clencher des actions  bas\\u00e9es sur des donn\\u00e9es provenant d'appareils IoT\", \"x\": 11.452214241027832, \"y\": 9.473336219787598}, {\"text\": \" Cela peut aider \\u00e0 automatiser des t\\u00e2ches ou \\u00e0  informer les utilisateurs d'\\u00e9v\\u00e9nements importants\", \"x\": 11.433698654174805, \"y\": 11.124126434326172}, {\"text\": \"    Voici d'autres choses que vous pouvez faire avec les cha\\u00eenes de r\\u00e8gles de ThingsBoard :    * Exporter et importer des cha\\u00eenes de r\\u00e8gles : Vous pouvez exporter et importer des cha\\u00eenes de  r\\u00e8gles depuis et vers la plateforme ThingsBoard\", \"x\": 10.784536361694336, \"y\": 8.799861907958984}, {\"text\": \" Cela peut \\u00eatre utile pour partager des cha\\u00eenes de  r\\u00e8gles avec d'autres utilisateurs ou pour sauvegarder vos cha\\u00eenes de r\\u00e8gles\", \"x\": 11.674812316894531, \"y\": 10.500160217285156}, {\"text\": \"  * D\\u00e9boguer les cha\\u00eenes de r\\u00e8gles : Vous pouvez d\\u00e9boguer les cha\\u00eenes de r\\u00e8gles en activant le mode  d\\u00e9bogage\", \"x\": 12.15304946899414, \"y\": 9.856633186340332}, {\"text\": \" Cela vous permettra de voir l'ex\\u00e9cution de votre cha\\u00eene de r\\u00e8gles \\u00e9tape par \\u00e9tape\", \"x\": 10.450119972229004, \"y\": 10.21745491027832}, {\"text\": \"  * Planifier des cha\\u00eenes de r\\u00e8gles : Vous pouvez programmer l'ex\\u00e9cution de cha\\u00eenes de r\\u00e8gles \\u00e0 des  moments ou \\u00e0 des intervalles sp\\u00e9cifiques\", \"x\": 11.875463485717773, \"y\": 9.627882957458496}, {\"text\": \" Cela peut \\u00eatre utile pour automatiser des t\\u00e2ches ou pour  traiter r\\u00e9guli\\u00e8rement des donn\\u00e9es provenant d'appareils IoT\", \"x\": 11.1859130859375, \"y\": 10.679953575134277}, {\"text\": \"\", \"x\": 10.065191268920898, \"y\": 12.142620086669922}]}}, {\"mode\": \"vega-lite\"});\n",
              "</script>"
            ],
            "text/plain": [
              "alt.Chart(...)"
            ]
          },
          "metadata": {},
          "execution_count": 61
        }
      ]
    }
  ]
}